{
 "cells": [
  {
   "cell_type": "code",
   "execution_count": 44,
   "metadata": {},
   "outputs": [],
   "source": [
    "#import the library \n",
    "library(\"ggplot2\")\n",
    "library(\"dplyr\")\n",
    "library(\"wesanderson\")"
   ]
  },
  {
   "cell_type": "code",
   "execution_count": 45,
   "metadata": {},
   "outputs": [],
   "source": [
    "hsp <- read.csv('hsp70_for_R.csv')\n",
    "linc7 <- read.csv('linc7_for_R.csv')"
   ]
  },
  {
   "cell_type": "code",
   "execution_count": 46,
   "metadata": {},
   "outputs": [
    {
     "data": {
      "text/html": [
       "<table>\n",
       "<thead><tr><th scope=col>X</th><th scope=col>Time</th><th scope=col>fc</th><th scope=col>std</th></tr></thead>\n",
       "<tbody>\n",
       "\t<tr><td>0        </td><td>15 min   </td><td> 135.6842</td><td>137.76557</td></tr>\n",
       "\t<tr><td>1        </td><td>180 min  </td><td>1036.7653</td><td> 56.80342</td></tr>\n",
       "\t<tr><td>2        </td><td>30 min   </td><td> 551.4928</td><td>419.32528</td></tr>\n",
       "</tbody>\n",
       "</table>\n"
      ],
      "text/latex": [
       "\\begin{tabular}{r|llll}\n",
       " X & Time & fc & std\\\\\n",
       "\\hline\n",
       "\t 0         & 15 min    &  135.6842 & 137.76557\\\\\n",
       "\t 1         & 180 min   & 1036.7653 &  56.80342\\\\\n",
       "\t 2         & 30 min    &  551.4928 & 419.32528\\\\\n",
       "\\end{tabular}\n"
      ],
      "text/markdown": [
       "\n",
       "X | Time | fc | std | \n",
       "|---|---|---|\n",
       "| 0         | 15 min    |  135.6842 | 137.76557 | \n",
       "| 1         | 180 min   | 1036.7653 |  56.80342 | \n",
       "| 2         | 30 min    |  551.4928 | 419.32528 | \n",
       "\n",
       "\n"
      ],
      "text/plain": [
       "  X Time    fc        std      \n",
       "1 0 15 min   135.6842 137.76557\n",
       "2 1 180 min 1036.7653  56.80342\n",
       "3 2 30 min   551.4928 419.32528"
      ]
     },
     "metadata": {},
     "output_type": "display_data"
    }
   ],
   "source": [
    "hsp"
   ]
  },
  {
   "cell_type": "code",
   "execution_count": 47,
   "metadata": {},
   "outputs": [
    {
     "data": {
      "text/html": [
       "<table>\n",
       "<thead><tr><th scope=col>X</th><th scope=col>Time</th><th scope=col>fc</th><th scope=col>std</th><th scope=col>sem</th></tr></thead>\n",
       "<tbody>\n",
       "\t<tr><td>0        </td><td>15 min   </td><td> 135.6842</td><td>137.76557</td><td> 79.53899</td></tr>\n",
       "\t<tr><td>1        </td><td>180 min  </td><td>1036.7653</td><td> 56.80342</td><td> 32.79547</td></tr>\n",
       "\t<tr><td>2        </td><td>30 min   </td><td> 551.4928</td><td>419.32528</td><td>242.09756</td></tr>\n",
       "</tbody>\n",
       "</table>\n"
      ],
      "text/latex": [
       "\\begin{tabular}{r|lllll}\n",
       " X & Time & fc & std & sem\\\\\n",
       "\\hline\n",
       "\t 0         & 15 min    &  135.6842 & 137.76557 &  79.53899\\\\\n",
       "\t 1         & 180 min   & 1036.7653 &  56.80342 &  32.79547\\\\\n",
       "\t 2         & 30 min    &  551.4928 & 419.32528 & 242.09756\\\\\n",
       "\\end{tabular}\n"
      ],
      "text/markdown": [
       "\n",
       "X | Time | fc | std | sem | \n",
       "|---|---|---|\n",
       "| 0         | 15 min    |  135.6842 | 137.76557 |  79.53899 | \n",
       "| 1         | 180 min   | 1036.7653 |  56.80342 |  32.79547 | \n",
       "| 2         | 30 min    |  551.4928 | 419.32528 | 242.09756 | \n",
       "\n",
       "\n"
      ],
      "text/plain": [
       "  X Time    fc        std       sem      \n",
       "1 0 15 min   135.6842 137.76557  79.53899\n",
       "2 1 180 min 1036.7653  56.80342  32.79547\n",
       "3 2 30 min   551.4928 419.32528 242.09756"
      ]
     },
     "metadata": {},
     "output_type": "display_data"
    }
   ],
   "source": [
    "hsp <- hsp %>%\n",
    "mutate(sem=std/sqrt(3))\n",
    "hsp"
   ]
  },
  {
   "cell_type": "code",
   "execution_count": 48,
   "metadata": {},
   "outputs": [
    {
     "data": {
      "text/html": [
       "<table>\n",
       "<thead><tr><th scope=col>X</th><th scope=col>Time</th><th scope=col>fc</th><th scope=col>std</th><th scope=col>sem</th></tr></thead>\n",
       "<tbody>\n",
       "\t<tr><td>0        </td><td>15 min   </td><td>1.648082 </td><td>0.1967127</td><td>0.1135721</td></tr>\n",
       "\t<tr><td>1        </td><td>180 min  </td><td>5.151033 </td><td>0.4367098</td><td>0.2521345</td></tr>\n",
       "\t<tr><td>2        </td><td>30 min   </td><td>3.069897 </td><td>0.5117324</td><td>0.2954489</td></tr>\n",
       "</tbody>\n",
       "</table>\n"
      ],
      "text/latex": [
       "\\begin{tabular}{r|lllll}\n",
       " X & Time & fc & std & sem\\\\\n",
       "\\hline\n",
       "\t 0         & 15 min    & 1.648082  & 0.1967127 & 0.1135721\\\\\n",
       "\t 1         & 180 min   & 5.151033  & 0.4367098 & 0.2521345\\\\\n",
       "\t 2         & 30 min    & 3.069897  & 0.5117324 & 0.2954489\\\\\n",
       "\\end{tabular}\n"
      ],
      "text/markdown": [
       "\n",
       "X | Time | fc | std | sem | \n",
       "|---|---|---|\n",
       "| 0         | 15 min    | 1.648082  | 0.1967127 | 0.1135721 | \n",
       "| 1         | 180 min   | 5.151033  | 0.4367098 | 0.2521345 | \n",
       "| 2         | 30 min    | 3.069897  | 0.5117324 | 0.2954489 | \n",
       "\n",
       "\n"
      ],
      "text/plain": [
       "  X Time    fc       std       sem      \n",
       "1 0 15 min  1.648082 0.1967127 0.1135721\n",
       "2 1 180 min 5.151033 0.4367098 0.2521345\n",
       "3 2 30 min  3.069897 0.5117324 0.2954489"
      ]
     },
     "metadata": {},
     "output_type": "display_data"
    }
   ],
   "source": [
    "linc7 <- linc7 %>%\n",
    "mutate(sem=std/sqrt(3))\n",
    "linc7"
   ]
  },
  {
   "cell_type": "code",
   "execution_count": 53,
   "metadata": {},
   "outputs": [
    {
     "name": "stderr",
     "output_type": "stream",
     "text": [
      "Scale for 'fill' is already present. Adding another scale for 'fill', which\n",
      "will replace the existing scale.\n"
     ]
    },
    {
     "data": {},
     "metadata": {},
     "output_type": "display_data"
    },
    {
     "name": "stderr",
     "output_type": "stream",
     "text": [
      "Saving 6.67 x 6.67 in image\n"
     ]
    },
    {
     "data": {
      "image/png": "[encoded data removed]",
      "text/plain": [
       "plot without title"
      ]
     },
     "metadata": {},
     "output_type": "display_data",
     "source": "R display func"
    }
   ],
   "source": [
    "p <- ggplot(data=hsp, aes(x = factor(Time, level= c('15 min','30 min','180 min')), y = fc, fill=Time))  + geom_bar(stat = \"identity\") +  scale_fill_brewer(palette=\"Greys\")\n",
    "p <- p + geom_errorbar(data=hsp, mapping=aes(x=Time, ymin=(fc-sem), ymax=(fc+sem)), width=0.2, size=1, color=\"black\") + theme_classic()\n",
    "p <- p +  scale_fill_manual(values = wes_palette(\"GrandBudapest1\"))  + theme_classic() \n",
    "p\n",
    "ggsave('hsp70_time_course.jpeg')"
   ]
  },
  {
   "cell_type": "code",
   "execution_count": 52,
   "metadata": {},
   "outputs": [
    {
     "data": {},
     "metadata": {},
     "output_type": "display_data"
    },
    {
     "name": "stderr",
     "output_type": "stream",
     "text": [
      "Saving 6.67 x 6.67 in image\n"
     ]
    },
    {
     "data": {
      "image/png": "[encoded data removed]",
      "text/plain": [
       "plot without title"
      ]
     },
     "metadata": {},
     "output_type": "display_data",
     "source": "R display func"
    }
   ],
   "source": [
    "q <- ggplot(data=linc7, aes(x = factor(Time, level=c(\"15 min\",'30 min','180 min')), y = fc, fill=Time))  + geom_bar(stat = \"identity\") #+  scale_fill_brewer(palette = 'Reds' )\n",
    "q <- q + geom_errorbar(data=linc7, mapping=aes(x=Time, ymin=(fc-sem), ymax=(fc+sem)), width=0.2, size=1, color=\"black\") + theme_classic()\n",
    "q <- q +  scale_fill_manual(values = wes_palette(\"GrandBudapest1\"))  + theme_classic() \n",
    "\n",
    "q\n",
    "ggsave('linc7_time_course.jpeg')"
   ]
  },
  {
   "cell_type": "code",
   "execution_count": null,
   "metadata": {},
   "outputs": [],
   "source": []
  }
 ],
 "metadata": {
  "kernelspec": {
   "display_name": "R",
   "language": "R",
   "name": "ir"
  },
  "language_info": {
   "codemirror_mode": "r",
   "file_extension": ".r",
   "mimetype": "text/x-r-source",
   "name": "R",
   "pygments_lexer": "r",
   "version": "3.5.1"
  }
 },
 "nbformat": 4,
 "nbformat_minor": 2
}
