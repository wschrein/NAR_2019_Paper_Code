{
 "cells": [
  {
   "cell_type": "markdown",
   "metadata": {},
   "source": [
    "**Purpose: To find, genes that overlap with repeats, and find genes that overlap with more than 50% of a repeat \n",
    "to be filtered out latter\n",
    "\n",
    "**Steps: 1. intersect c. elegans repeats with c. elegans genes\n",
    "         2. calculate % overlap of genes with repeats\n",
    "         3. note HS-UP genes that overlap with more than 50% of repeat --those will be filtered out in diff notebook"
   ]
  },
  {
   "cell_type": "code",
   "execution_count": 109,
   "metadata": {},
   "outputs": [],
   "source": [
    "# import libraries \n",
    "from __future__ import division \n",
    "import pandas as pd\n",
    "import numpy as np"
   ]
  },
  {
   "cell_type": "code",
   "execution_count": 110,
   "metadata": {},
   "outputs": [
    {
     "name": "stderr",
     "output_type": "stream",
     "text": [
      "/home/wschrein/anaconda2/lib/python2.7/site-packages/ipykernel_launcher.py:1: FutureWarning: read_table is deprecated, use read_csv instead, passing sep='\\t'.\n",
      "  \"\"\"Entry point for launching an IPython kernel.\n",
      "/home/wschrein/anaconda2/lib/python2.7/site-packages/ipykernel_launcher.py:2: FutureWarning: read_table is deprecated, use read_csv instead, passing sep='\\t'.\n",
      "  \n"
     ]
    }
   ],
   "source": [
    "repeats = pd.read_table('repeats.bed') # from UCSC\n",
    "genes = pd.read_table('genes.ws245.bed') # from UCSC\n",
    "genes_not_filtered = pd.read_csv('/home/wschrein/final/Figure1/up_genes_no_intron_filtering.csv') # all up_genes before filtering "
   ]
  },
  {
   "cell_type": "code",
   "execution_count": 111,
   "metadata": {},
   "outputs": [
    {
     "data": {
      "text/html": [
       "<div>\n",
       "<style scoped>\n",
       "    .dataframe tbody tr th:only-of-type {\n",
       "        vertical-align: middle;\n",
       "    }\n",
       "\n",
       "    .dataframe tbody tr th {\n",
       "        vertical-align: top;\n",
       "    }\n",
       "\n",
       "    .dataframe thead th {\n",
       "        text-align: right;\n",
       "    }\n",
       "</style>\n",
       "<table border=\"1\" class=\"dataframe\">\n",
       "  <thead>\n",
       "    <tr style=\"text-align: right;\">\n",
       "      <th></th>\n",
       "      <th>chrI</th>\n",
       "      <th>4194254</th>\n",
       "      <th>4194376</th>\n",
       "      <th>CELE2</th>\n",
       "      <th>738</th>\n",
       "      <th>+</th>\n",
       "    </tr>\n",
       "  </thead>\n",
       "  <tbody>\n",
       "    <tr>\n",
       "      <th>0</th>\n",
       "      <td>chrI</td>\n",
       "      <td>655143</td>\n",
       "      <td>655494</td>\n",
       "      <td>CELE1</td>\n",
       "      <td>1812</td>\n",
       "      <td>+</td>\n",
       "    </tr>\n",
       "  </tbody>\n",
       "</table>\n",
       "</div>"
      ],
      "text/plain": [
       "   chrI  4194254  4194376  CELE2   738  +\n",
       "0  chrI   655143   655494  CELE1  1812  +"
      ]
     },
     "execution_count": 111,
     "metadata": {},
     "output_type": "execute_result"
    }
   ],
   "source": [
    "# repeat bed file\n",
    "repeats.head(1)"
   ]
  },
  {
   "cell_type": "code",
   "execution_count": 112,
   "metadata": {},
   "outputs": [],
   "source": [
    "# use bedtools intersect with -wao feature to find # of bp that overlap\n",
    "\n",
    "! bedtools intersect -a genes.ws245.bed -b repeats.bed -wao > repeats_intersected_with_genes.txt"
   ]
  },
  {
   "cell_type": "code",
   "execution_count": 114,
   "metadata": {},
   "outputs": [
    {
     "name": "stderr",
     "output_type": "stream",
     "text": [
      "/home/wschrein/anaconda2/lib/python2.7/site-packages/ipykernel_launcher.py:4: FutureWarning: read_table is deprecated, use read_csv instead, passing sep='\\t'.\n",
      "  after removing the cwd from sys.path.\n"
     ]
    }
   ],
   "source": [
    "# read in interscet file\n",
    "intersect = pd.read_table('repeats_intersected_with_genes.txt',\n",
    "      names=['chrom','start','end','gene','score','strand',\n",
    "             'chrom_r','start_r','end_r','repeat','score_r','strand','bp_overlap'])"
   ]
  },
  {
   "cell_type": "code",
   "execution_count": 115,
   "metadata": {},
   "outputs": [
    {
     "data": {
      "text/html": [
       "<div>\n",
       "<style scoped>\n",
       "    .dataframe tbody tr th:only-of-type {\n",
       "        vertical-align: middle;\n",
       "    }\n",
       "\n",
       "    .dataframe tbody tr th {\n",
       "        vertical-align: top;\n",
       "    }\n",
       "\n",
       "    .dataframe thead th {\n",
       "        text-align: right;\n",
       "    }\n",
       "</style>\n",
       "<table border=\"1\" class=\"dataframe\">\n",
       "  <thead>\n",
       "    <tr style=\"text-align: right;\">\n",
       "      <th></th>\n",
       "      <th>chrom</th>\n",
       "      <th>start</th>\n",
       "      <th>end</th>\n",
       "      <th>gene</th>\n",
       "      <th>score</th>\n",
       "      <th>strand</th>\n",
       "      <th>chrom_r</th>\n",
       "      <th>start_r</th>\n",
       "      <th>end_r</th>\n",
       "      <th>repeat</th>\n",
       "      <th>score_r</th>\n",
       "      <th>strand.1</th>\n",
       "      <th>bp_overlap</th>\n",
       "    </tr>\n",
       "  </thead>\n",
       "  <tbody>\n",
       "    <tr>\n",
       "      <th>0</th>\n",
       "      <td>chrI</td>\n",
       "      <td>8377601</td>\n",
       "      <td>8392753</td>\n",
       "      <td>T19A6.1a.2</td>\n",
       "      <td>0</td>\n",
       "      <td>-</td>\n",
       "      <td>chrI</td>\n",
       "      <td>8379433</td>\n",
       "      <td>8379453</td>\n",
       "      <td>(TC)n</td>\n",
       "      <td>16</td>\n",
       "      <td>+</td>\n",
       "      <td>20</td>\n",
       "    </tr>\n",
       "  </tbody>\n",
       "</table>\n",
       "</div>"
      ],
      "text/plain": [
       "  chrom    start      end        gene  score strand chrom_r  start_r    end_r  \\\n",
       "0  chrI  8377601  8392753  T19A6.1a.2      0      -    chrI  8379433  8379453   \n",
       "\n",
       "  repeat  score_r strand.1  bp_overlap  \n",
       "0  (TC)n       16        +          20  "
      ]
     },
     "execution_count": 115,
     "metadata": {},
     "output_type": "execute_result"
    }
   ],
   "source": [
    "intersect.head(1) # now find genes that overlap with a repeat by more than 50% "
   ]
  },
  {
   "cell_type": "code",
   "execution_count": 116,
   "metadata": {},
   "outputs": [],
   "source": [
    "# get the length of repeats and genes\n",
    "intersect['gene_length'] = intersect['end'] - intersect['start']\n",
    "intersect['repeat_length'] = intersect['end_r'] - intersect['start_r']\n",
    "\n"
   ]
  },
  {
   "cell_type": "code",
   "execution_count": 117,
   "metadata": {},
   "outputs": [],
   "source": [
    "# get percent of gene that overlaps with gene \n",
    "intersect['percent_overlap'] = (intersect['bp_overlap'] / intersect['gene_length'])*100\n"
   ]
  },
  {
   "cell_type": "code",
   "execution_count": 118,
   "metadata": {},
   "outputs": [],
   "source": [
    "# seperate dataframe that contains genes with large overlap\n",
    "# note: a lot of pseudogenes contain large overlap \n",
    "\n",
    "intersect_large_overlap = intersect[intersect.percent_overlap>50]"
   ]
  },
  {
   "cell_type": "code",
   "execution_count": 119,
   "metadata": {},
   "outputs": [],
   "source": [
    "# make list of genes with more than 50% overlap\n",
    "genes_with_more_than_50percent = list(intersect_large_overlap['gene'])"
   ]
  },
  {
   "cell_type": "code",
   "execution_count": 120,
   "metadata": {},
   "outputs": [
    {
     "name": "stdout",
     "output_type": "stream",
     "text": [
      "Y53F4B.7\n",
      "F33H12.6\n",
      "F59H6.5\n",
      "Y81B9A.1\n"
     ]
    }
   ],
   "source": [
    "# ID up genes that contain more than 50% overlap, \n",
    "reapeats_to_be_filtered = []\n",
    "for index, row in genes_not_filtered.iterrows():\n",
    "    if row.transcript in genes_with_more_than_50percent:\n",
    "        print(row.transcript) #  these are the genes that will be filtered out b/c they overlap with more than 50% of a repeat\n",
    "        reapeats_to_be_filtered.append(row.transcript)\n",
    "\n"
   ]
  },
  {
   "cell_type": "code",
   "execution_count": 90,
   "metadata": {},
   "outputs": [],
   "source": [
    "# make csv of genes to filter out "
   ]
  },
  {
   "cell_type": "code",
   "execution_count": 121,
   "metadata": {},
   "outputs": [],
   "source": [
    "# ID up genes that contain more than 50% overlap, and make \n",
    "greater_than_50 = []\n",
    "for index, row in genes_not_filtered.iterrows():\n",
    "    if row.transcript in reapeats_to_be_filtered:\n",
    "        greater_than_50.append(\"yes\")\n",
    "    else:\n",
    "        greater_than_50.append(\"no\")\n",
    "         \n"
   ]
  },
  {
   "cell_type": "code",
   "execution_count": 122,
   "metadata": {},
   "outputs": [],
   "source": [
    "genes_not_filtered['greater_than_50'] = greater_than_50"
   ]
  },
  {
   "cell_type": "code",
   "execution_count": 123,
   "metadata": {},
   "outputs": [],
   "source": [
    "repeats_to_be_filtered = genes_not_filtered[genes_not_filtered.greater_than_50=='yes']"
   ]
  },
  {
   "cell_type": "code",
   "execution_count": 124,
   "metadata": {},
   "outputs": [],
   "source": [
    "repeats_to_be_filtered=repeats_to_be_filtered[['transcript']]"
   ]
  },
  {
   "cell_type": "code",
   "execution_count": 125,
   "metadata": {},
   "outputs": [],
   "source": [
    "## This file will be used to filter out genes that overlap with more than 50% of a repetitive read\n",
    "## This file is used in D1. Filter_the_up_Genes.ipynb\n",
    "\n",
    "repeats_to_be_filtered.to_csv('repeats_to_be_filtered.csv', index=False)"
   ]
  }
 ],
 "metadata": {
  "kernelspec": {
   "display_name": "Python 2",
   "language": "python",
   "name": "python2"
  },
  "language_info": {
   "codemirror_mode": {
    "name": "ipython",
    "version": 2
   },
   "file_extension": ".py",
   "mimetype": "text/x-python",
   "name": "python",
   "nbconvert_exporter": "python",
   "pygments_lexer": "ipython2",
   "version": "2.7.16"
  }
 },
 "nbformat": 4,
 "nbformat_minor": 2
}
