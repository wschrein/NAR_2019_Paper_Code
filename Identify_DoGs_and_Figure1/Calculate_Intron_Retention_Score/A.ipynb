{
 "cells": [
  {
   "cell_type": "markdown",
   "metadata": {},
   "source": [
    "**Plan: deseq2 does not accept rows with identical names\n",
    "Therefore, add a barcode to the intron location\n",
    "\n",
    "\n",
    "To generate a list of introns, a script was used from: http://seqanswers.com/forums/showthread.php?t=42420\n",
    "\n",
    "This script was used on the GTF.88 from ensembl\n",
    "\n",
    "The generated file was further parsed below:"
   ]
  },
  {
   "cell_type": "code",
   "execution_count": 1,
   "metadata": {},
   "outputs": [],
   "source": [
    "from __future__ import division \n",
    "import pandas as pd \n",
    "import csv "
   ]
  },
  {
   "cell_type": "code",
   "execution_count": 2,
   "metadata": {},
   "outputs": [
    {
     "name": "stderr",
     "output_type": "stream",
     "text": [
      "/home/wschrein/anaconda2/lib/python2.7/site-packages/ipykernel_launcher.py:5: FutureWarning: read_table is deprecated, use read_csv instead, passing sep='\\t'.\n",
      "  \"\"\"\n"
     ]
    }
   ],
   "source": [
    "# read in introns and exons file \n",
    "\n",
    "df = pd.read_table('introns_and_exons_88.gff', header=None, \n",
    "quoting=csv.QUOTE_NONE,\n",
    "names = ['Chr','notes','part','Start','End','dot1','Strand','dot2','name'])\n"
   ]
  },
  {
   "cell_type": "code",
   "execution_count": 3,
   "metadata": {},
   "outputs": [],
   "source": [
    "#  Get onley the intron locations\n",
    "\n",
    "df_intron = df[df.part.str.contains(\"intronic_part\")]\n",
    "\n",
    "df_intron.reset_index(inplace=True,drop=True)\n",
    "\n",
    "df_intron = df_intron.copy()"
   ]
  },
  {
   "cell_type": "code",
   "execution_count": 4,
   "metadata": {},
   "outputs": [
    {
     "data": {
      "text/html": [
       "<div>\n",
       "<style scoped>\n",
       "    .dataframe tbody tr th:only-of-type {\n",
       "        vertical-align: middle;\n",
       "    }\n",
       "\n",
       "    .dataframe tbody tr th {\n",
       "        vertical-align: top;\n",
       "    }\n",
       "\n",
       "    .dataframe thead th {\n",
       "        text-align: right;\n",
       "    }\n",
       "</style>\n",
       "<table border=\"1\" class=\"dataframe\">\n",
       "  <thead>\n",
       "    <tr style=\"text-align: right;\">\n",
       "      <th></th>\n",
       "      <th>Chr</th>\n",
       "      <th>notes</th>\n",
       "      <th>part</th>\n",
       "      <th>Start</th>\n",
       "      <th>End</th>\n",
       "      <th>dot1</th>\n",
       "      <th>Strand</th>\n",
       "      <th>dot2</th>\n",
       "      <th>name</th>\n",
       "      <th>GeneID</th>\n",
       "      <th>stuff</th>\n",
       "    </tr>\n",
       "  </thead>\n",
       "  <tbody>\n",
       "    <tr>\n",
       "      <th>0</th>\n",
       "      <td>I</td>\n",
       "      <td>dexseq_prepare_annotation.py</td>\n",
       "      <td>intronic_part</td>\n",
       "      <td>4359</td>\n",
       "      <td>5194</td>\n",
       "      <td>.</td>\n",
       "      <td>-</td>\n",
       "      <td>.</td>\n",
       "      <td>transcripts \"NA\"; exonic_part_number \"  1\"; ge...</td>\n",
       "      <td>WBGene00022277</td>\n",
       "      <td>transcripts \"NA\"; exonic_part_number \"  1\"; ge...</td>\n",
       "    </tr>\n",
       "  </tbody>\n",
       "</table>\n",
       "</div>"
      ],
      "text/plain": [
       "  Chr                         notes           part  Start   End dot1 Strand  \\\n",
       "0   I  dexseq_prepare_annotation.py  intronic_part   4359  5194    .      -   \n",
       "\n",
       "  dot2                                               name          GeneID  \\\n",
       "0    .  transcripts \"NA\"; exonic_part_number \"  1\"; ge...  WBGene00022277   \n",
       "\n",
       "                                               stuff  \n",
       "0  transcripts \"NA\"; exonic_part_number \"  1\"; ge...  "
      ]
     },
     "execution_count": 4,
     "metadata": {},
     "output_type": "execute_result"
    }
   ],
   "source": [
    "# Parse out the name of the Gene from the gff file, by parsing the name column \n",
    "\n",
    "nombres = []\n",
    "for i in df_intron['name']:\n",
    "    i = i.split()[6]\n",
    "    i = i.split(\"\\\"\")[1]\n",
    "    nombres.append(i)\n",
    "serial = pd.Series(nombres)\n",
    "\n",
    "\n",
    "df_intron['GeneID'] = nombres\n",
    "\n",
    "df_intron['stuff'] = df_intron['name']\n",
    "df_intron.head(1)"
   ]
  },
  {
   "cell_type": "code",
   "execution_count": 5,
   "metadata": {},
   "outputs": [
    {
     "data": {
      "text/html": [
       "<div>\n",
       "<style scoped>\n",
       "    .dataframe tbody tr th:only-of-type {\n",
       "        vertical-align: middle;\n",
       "    }\n",
       "\n",
       "    .dataframe tbody tr th {\n",
       "        vertical-align: top;\n",
       "    }\n",
       "\n",
       "    .dataframe thead th {\n",
       "        text-align: right;\n",
       "    }\n",
       "</style>\n",
       "<table border=\"1\" class=\"dataframe\">\n",
       "  <thead>\n",
       "    <tr style=\"text-align: right;\">\n",
       "      <th></th>\n",
       "      <th>Chr</th>\n",
       "      <th>notes</th>\n",
       "      <th>part</th>\n",
       "      <th>Start</th>\n",
       "      <th>End</th>\n",
       "      <th>dot1</th>\n",
       "      <th>Strand</th>\n",
       "      <th>dot2</th>\n",
       "      <th>name</th>\n",
       "      <th>GeneID</th>\n",
       "      <th>stuff</th>\n",
       "      <th>Barcoded_GeneID</th>\n",
       "    </tr>\n",
       "  </thead>\n",
       "  <tbody>\n",
       "    <tr>\n",
       "      <th>0</th>\n",
       "      <td>I</td>\n",
       "      <td>dexseq_prepare_annotation.py</td>\n",
       "      <td>intronic_part</td>\n",
       "      <td>4359</td>\n",
       "      <td>5194</td>\n",
       "      <td>.</td>\n",
       "      <td>-</td>\n",
       "      <td>.</td>\n",
       "      <td>transcripts \"NA\"; exonic_part_number \"  1\"; ge...</td>\n",
       "      <td>WBGene00022277</td>\n",
       "      <td>transcripts \"NA\"; exonic_part_number \"  1\"; ge...</td>\n",
       "      <td>WBGene00022277_1</td>\n",
       "    </tr>\n",
       "  </tbody>\n",
       "</table>\n",
       "</div>"
      ],
      "text/plain": [
       "  Chr                         notes           part  Start   End dot1 Strand  \\\n",
       "0   I  dexseq_prepare_annotation.py  intronic_part   4359  5194    .      -   \n",
       "\n",
       "  dot2                                               name          GeneID  \\\n",
       "0    .  transcripts \"NA\"; exonic_part_number \"  1\"; ge...  WBGene00022277   \n",
       "\n",
       "                                               stuff   Barcoded_GeneID  \n",
       "0  transcripts \"NA\"; exonic_part_number \"  1\"; ge...  WBGene00022277_1  "
      ]
     },
     "execution_count": 5,
     "metadata": {},
     "output_type": "execute_result"
    }
   ],
   "source": [
    "# create a number barcode for each gene; deseq2 doesnt like it when there are genes with the same name;\n",
    "# so we neeed to give each intron its own unique number, the introns can then be merged together\n",
    "\n",
    "Barcoded_Geneid = []\n",
    "for index, row in df_intron.iterrows():\n",
    "    a = row.stuff\n",
    "    a = a.split()[4]\n",
    "    a = a.split()[0]\n",
    "    z = row.GeneID\n",
    "    z += \"_\"+a\n",
    "    z = z.split(\";\")[0]\n",
    "    z = z.split(\"\\\"\")[0]\n",
    "    Barcoded_Geneid.append(z)\n",
    "    \n",
    "df_intron['Barcoded_GeneID'] = Barcoded_Geneid\n",
    "df_intron.head(1)"
   ]
  },
  {
   "cell_type": "code",
   "execution_count": 8,
   "metadata": {},
   "outputs": [],
   "source": [
    "# Make an SAF file that can be used by feature counts \n",
    "\n",
    "intron_SAF_barcode = df_intron[['Barcoded_GeneID', 'Chr', 'Start', 'End', 'Strand']]\n",
    "\n",
    "intron_SAF_barcode = intron_SAF_barcode.rename(columns={'Barcoded_Geneid':'GeneID'})\n",
    "\n",
    "intron_SAF_barcode.head(1)  # looks good"
   ]
  },
  {
   "cell_type": "code",
   "execution_count": 13,
   "metadata": {},
   "outputs": [],
   "source": [
    "# Save as saf for feature counts\n",
    "\n",
    "intron_SAF_barcode.to_csv('Barcoded_intron_saf.saf', sep='\\t', index=None, quoting=csv.QUOTE_NONE)"
   ]
  }
 ],
 "metadata": {
  "kernelspec": {
   "display_name": "Python 2",
   "language": "python",
   "name": "python2"
  },
  "language_info": {
   "codemirror_mode": {
    "name": "ipython",
    "version": 2
   },
   "file_extension": ".py",
   "mimetype": "text/x-python",
   "name": "python",
   "nbconvert_exporter": "python",
   "pygments_lexer": "ipython2",
   "version": "2.7.16"
  }
 },
 "nbformat": 4,
 "nbformat_minor": 2
}
