{
 "cells": [
  {
   "cell_type": "code",
   "execution_count": 42,
   "metadata": {},
   "outputs": [],
   "source": [
    "from __future__ import division \n",
    "import pandas as pd"
   ]
  },
  {
   "cell_type": "code",
   "execution_count": null,
   "metadata": {},
   "outputs": [],
   "source": []
  },
  {
   "cell_type": "code",
   "execution_count": 44,
   "metadata": {},
   "outputs": [
    {
     "name": "stderr",
     "output_type": "stream",
     "text": [
      "/home/wschrein/anaconda2/lib/python2.7/site-packages/ipykernel_launcher.py:3: FutureWarning: read_table is deprecated, use read_csv instead, passing sep='\\t'.\n",
      "  This is separate from the ipykernel package so we can avoid doing imports until\n"
     ]
    }
   ],
   "source": [
    "# import the feature counts results for intron file\n",
    "counts = pd.read_table(\"barcoded_s2_int.txt\", index_col=0,\n",
    "                    comment=\"#\")"
   ]
  },
  {
   "cell_type": "code",
   "execution_count": 45,
   "metadata": {},
   "outputs": [
    {
     "data": {
      "text/html": [
       "<div>\n",
       "<style scoped>\n",
       "    .dataframe tbody tr th:only-of-type {\n",
       "        vertical-align: middle;\n",
       "    }\n",
       "\n",
       "    .dataframe tbody tr th {\n",
       "        vertical-align: top;\n",
       "    }\n",
       "\n",
       "    .dataframe thead th {\n",
       "        text-align: right;\n",
       "    }\n",
       "</style>\n",
       "<table border=\"1\" class=\"dataframe\">\n",
       "  <thead>\n",
       "    <tr style=\"text-align: right;\">\n",
       "      <th></th>\n",
       "      <th>Length</th>\n",
       "      <th>/home/wschrein/scratch/nuevo/att_1/bams/Sample1Aligned.out.sam.sorted.bam</th>\n",
       "      <th>/home/wschrein/scratch/nuevo/att_1/bams/Sample2Aligned.out.sam.sorted.bam</th>\n",
       "      <th>/home/wschrein/scratch/nuevo/att_1/bams/Sample3Aligned.out.sam.sorted.bam</th>\n",
       "      <th>/home/wschrein/scratch/nuevo/att_1/bams/Sample4Aligned.out.sam.sorted.bam</th>\n",
       "      <th>/home/wschrein/scratch/nuevo/att_1/bams/Sample5Aligned.out.sam.sorted.bam</th>\n",
       "      <th>/home/wschrein/scratch/nuevo/att_1/bams/Sample6Aligned.out.sam.sorted.bam</th>\n",
       "    </tr>\n",
       "    <tr>\n",
       "      <th>Geneid</th>\n",
       "      <th></th>\n",
       "      <th></th>\n",
       "      <th></th>\n",
       "      <th></th>\n",
       "      <th></th>\n",
       "      <th></th>\n",
       "      <th></th>\n",
       "    </tr>\n",
       "  </thead>\n",
       "  <tbody>\n",
       "    <tr>\n",
       "      <th>WBGene00022277_1</th>\n",
       "      <td>836</td>\n",
       "      <td>4</td>\n",
       "      <td>3</td>\n",
       "      <td>7</td>\n",
       "      <td>0</td>\n",
       "      <td>1</td>\n",
       "      <td>5</td>\n",
       "    </tr>\n",
       "    <tr>\n",
       "      <th>WBGene00022277_2</th>\n",
       "      <td>740</td>\n",
       "      <td>14</td>\n",
       "      <td>4</td>\n",
       "      <td>22</td>\n",
       "      <td>0</td>\n",
       "      <td>3</td>\n",
       "      <td>8</td>\n",
       "    </tr>\n",
       "    <tr>\n",
       "      <th>WBGene00022277_3</th>\n",
       "      <td>3399</td>\n",
       "      <td>19</td>\n",
       "      <td>36</td>\n",
       "      <td>45</td>\n",
       "      <td>10</td>\n",
       "      <td>8</td>\n",
       "      <td>26</td>\n",
       "    </tr>\n",
       "    <tr>\n",
       "      <th>WBGene00022277_4</th>\n",
       "      <td>248</td>\n",
       "      <td>9</td>\n",
       "      <td>9</td>\n",
       "      <td>11</td>\n",
       "      <td>11</td>\n",
       "      <td>10</td>\n",
       "      <td>5</td>\n",
       "    </tr>\n",
       "    <tr>\n",
       "      <th>WBGene00022276_1</th>\n",
       "      <td>909</td>\n",
       "      <td>8</td>\n",
       "      <td>6</td>\n",
       "      <td>8</td>\n",
       "      <td>8</td>\n",
       "      <td>4</td>\n",
       "      <td>7</td>\n",
       "    </tr>\n",
       "  </tbody>\n",
       "</table>\n",
       "</div>"
      ],
      "text/plain": [
       "                  Length  \\\n",
       "Geneid                     \n",
       "WBGene00022277_1     836   \n",
       "WBGene00022277_2     740   \n",
       "WBGene00022277_3    3399   \n",
       "WBGene00022277_4     248   \n",
       "WBGene00022276_1     909   \n",
       "\n",
       "                  /home/wschrein/scratch/nuevo/att_1/bams/Sample1Aligned.out.sam.sorted.bam  \\\n",
       "Geneid                                                                                        \n",
       "WBGene00022277_1                                                  4                           \n",
       "WBGene00022277_2                                                 14                           \n",
       "WBGene00022277_3                                                 19                           \n",
       "WBGene00022277_4                                                  9                           \n",
       "WBGene00022276_1                                                  8                           \n",
       "\n",
       "                  /home/wschrein/scratch/nuevo/att_1/bams/Sample2Aligned.out.sam.sorted.bam  \\\n",
       "Geneid                                                                                        \n",
       "WBGene00022277_1                                                  3                           \n",
       "WBGene00022277_2                                                  4                           \n",
       "WBGene00022277_3                                                 36                           \n",
       "WBGene00022277_4                                                  9                           \n",
       "WBGene00022276_1                                                  6                           \n",
       "\n",
       "                  /home/wschrein/scratch/nuevo/att_1/bams/Sample3Aligned.out.sam.sorted.bam  \\\n",
       "Geneid                                                                                        \n",
       "WBGene00022277_1                                                  7                           \n",
       "WBGene00022277_2                                                 22                           \n",
       "WBGene00022277_3                                                 45                           \n",
       "WBGene00022277_4                                                 11                           \n",
       "WBGene00022276_1                                                  8                           \n",
       "\n",
       "                  /home/wschrein/scratch/nuevo/att_1/bams/Sample4Aligned.out.sam.sorted.bam  \\\n",
       "Geneid                                                                                        \n",
       "WBGene00022277_1                                                  0                           \n",
       "WBGene00022277_2                                                  0                           \n",
       "WBGene00022277_3                                                 10                           \n",
       "WBGene00022277_4                                                 11                           \n",
       "WBGene00022276_1                                                  8                           \n",
       "\n",
       "                  /home/wschrein/scratch/nuevo/att_1/bams/Sample5Aligned.out.sam.sorted.bam  \\\n",
       "Geneid                                                                                        \n",
       "WBGene00022277_1                                                  1                           \n",
       "WBGene00022277_2                                                  3                           \n",
       "WBGene00022277_3                                                  8                           \n",
       "WBGene00022277_4                                                 10                           \n",
       "WBGene00022276_1                                                  4                           \n",
       "\n",
       "                  /home/wschrein/scratch/nuevo/att_1/bams/Sample6Aligned.out.sam.sorted.bam  \n",
       "Geneid                                                                                       \n",
       "WBGene00022277_1                                                  5                          \n",
       "WBGene00022277_2                                                  8                          \n",
       "WBGene00022277_3                                                 26                          \n",
       "WBGene00022277_4                                                  5                          \n",
       "WBGene00022276_1                                                  7                          "
      ]
     },
     "execution_count": 45,
     "metadata": {},
     "output_type": "execute_result"
    }
   ],
   "source": [
    "# drop the uneeded information information\n",
    "\n",
    "counts.drop(['Chr', 'Start', 'End', 'Strand'], axis=1, inplace=True)\n",
    "counts.head()"
   ]
  },
  {
   "cell_type": "code",
   "execution_count": 46,
   "metadata": {},
   "outputs": [
    {
     "data": {
      "text/html": [
       "<div>\n",
       "<style scoped>\n",
       "    .dataframe tbody tr th:only-of-type {\n",
       "        vertical-align: middle;\n",
       "    }\n",
       "\n",
       "    .dataframe tbody tr th {\n",
       "        vertical-align: top;\n",
       "    }\n",
       "\n",
       "    .dataframe thead th {\n",
       "        text-align: right;\n",
       "    }\n",
       "</style>\n",
       "<table border=\"1\" class=\"dataframe\">\n",
       "  <thead>\n",
       "    <tr style=\"text-align: right;\">\n",
       "      <th></th>\n",
       "      <th>Length</th>\n",
       "      <th>N2_CTR_1</th>\n",
       "      <th>N2_CTR_3</th>\n",
       "      <th>N2_CTR_4</th>\n",
       "      <th>N2_HS_1</th>\n",
       "      <th>N2_HS_3</th>\n",
       "      <th>N2_HS_4</th>\n",
       "    </tr>\n",
       "    <tr>\n",
       "      <th>Geneid</th>\n",
       "      <th></th>\n",
       "      <th></th>\n",
       "      <th></th>\n",
       "      <th></th>\n",
       "      <th></th>\n",
       "      <th></th>\n",
       "      <th></th>\n",
       "    </tr>\n",
       "  </thead>\n",
       "  <tbody>\n",
       "    <tr>\n",
       "      <th>WBGene00022277_1</th>\n",
       "      <td>836</td>\n",
       "      <td>4</td>\n",
       "      <td>3</td>\n",
       "      <td>7</td>\n",
       "      <td>0</td>\n",
       "      <td>1</td>\n",
       "      <td>5</td>\n",
       "    </tr>\n",
       "    <tr>\n",
       "      <th>WBGene00022277_2</th>\n",
       "      <td>740</td>\n",
       "      <td>14</td>\n",
       "      <td>4</td>\n",
       "      <td>22</td>\n",
       "      <td>0</td>\n",
       "      <td>3</td>\n",
       "      <td>8</td>\n",
       "    </tr>\n",
       "    <tr>\n",
       "      <th>WBGene00022277_3</th>\n",
       "      <td>3399</td>\n",
       "      <td>19</td>\n",
       "      <td>36</td>\n",
       "      <td>45</td>\n",
       "      <td>10</td>\n",
       "      <td>8</td>\n",
       "      <td>26</td>\n",
       "    </tr>\n",
       "    <tr>\n",
       "      <th>WBGene00022277_4</th>\n",
       "      <td>248</td>\n",
       "      <td>9</td>\n",
       "      <td>9</td>\n",
       "      <td>11</td>\n",
       "      <td>11</td>\n",
       "      <td>10</td>\n",
       "      <td>5</td>\n",
       "    </tr>\n",
       "    <tr>\n",
       "      <th>WBGene00022276_1</th>\n",
       "      <td>909</td>\n",
       "      <td>8</td>\n",
       "      <td>6</td>\n",
       "      <td>8</td>\n",
       "      <td>8</td>\n",
       "      <td>4</td>\n",
       "      <td>7</td>\n",
       "    </tr>\n",
       "  </tbody>\n",
       "</table>\n",
       "</div>"
      ],
      "text/plain": [
       "                  Length  N2_CTR_1  N2_CTR_3  N2_CTR_4  N2_HS_1  N2_HS_3  \\\n",
       "Geneid                                                                     \n",
       "WBGene00022277_1     836         4         3         7        0        1   \n",
       "WBGene00022277_2     740        14         4        22        0        3   \n",
       "WBGene00022277_3    3399        19        36        45       10        8   \n",
       "WBGene00022277_4     248         9         9        11       11       10   \n",
       "WBGene00022276_1     909         8         6         8        8        4   \n",
       "\n",
       "                  N2_HS_4  \n",
       "Geneid                     \n",
       "WBGene00022277_1        5  \n",
       "WBGene00022277_2        8  \n",
       "WBGene00022277_3       26  \n",
       "WBGene00022277_4        5  \n",
       "WBGene00022276_1        7  "
      ]
     },
     "execution_count": 46,
     "metadata": {},
     "output_type": "execute_result"
    }
   ],
   "source": [
    "counts = counts.rename(columns = {\"/home/wschrein/scratch/nuevo/att_1/bams/Sample1Aligned.out.sam.sorted.bam\":\"N2_CTR_1\",\n",
    "                  \"/home/wschrein/scratch/nuevo/att_1/bams/Sample2Aligned.out.sam.sorted.bam\":\"N2_CTR_3\",\n",
    "                  \"/home/wschrein/scratch/nuevo/att_1/bams/Sample3Aligned.out.sam.sorted.bam\":\"N2_CTR_4\",\n",
    "                  \"/home/wschrein/scratch/nuevo/att_1/bams/Sample4Aligned.out.sam.sorted.bam\":\"N2_HS_1\",\n",
    "                  \"/home/wschrein/scratch/nuevo/att_1/bams/Sample5Aligned.out.sam.sorted.bam\":\"N2_HS_3\",\n",
    "                                 \"/home/wschrein/scratch/nuevo/att_1/bams/Sample6Aligned.out.sam.sorted.bam\":\"N2_HS_4\"})\n",
    "counts.head()"
   ]
  },
  {
   "cell_type": "code",
   "execution_count": 47,
   "metadata": {},
   "outputs": [],
   "source": [
    "counts.to_csv('counts_for_deseq2.csv')"
   ]
  },
  {
   "cell_type": "code",
   "execution_count": 48,
   "metadata": {},
   "outputs": [],
   "source": [
    "conditions = pd.DataFrame(index = counts.columns[1:])"
   ]
  },
  {
   "cell_type": "code",
   "execution_count": 49,
   "metadata": {},
   "outputs": [],
   "source": [
    "features = ['CTR', 'CTR', 'CTR', 'HS', 'HS', 'HS']\n",
    "conditions['condition'] = features"
   ]
  },
  {
   "cell_type": "code",
   "execution_count": 50,
   "metadata": {},
   "outputs": [],
   "source": [
    "conditions.to_csv('conditions_for_deseq2.csv')"
   ]
  },
  {
   "cell_type": "code",
   "execution_count": 51,
   "metadata": {},
   "outputs": [
    {
     "name": "stdout",
     "output_type": "stream",
     "text": [
      "The rpy2.ipython extension is already loaded. To reload it, use:\n",
      "  %reload_ext rpy2.ipython\n"
     ]
    }
   ],
   "source": [
    "# this awesome package allows R code to be run in python jupyter notebooks\n",
    "\n",
    "%load_ext rpy2.ipython"
   ]
  },
  {
   "cell_type": "code",
   "execution_count": 52,
   "metadata": {},
   "outputs": [
    {
     "name": "stdout",
     "output_type": "stream",
     "text": [
      "\n",
      "Error in library(\"pcaExplorer\") : \n",
      "  there is no package called ‘pcaExplorer’\n"
     ]
    }
   ],
   "source": [
    "%%R\n",
    "\n",
    "suppressMessages(library(\"DESeq2\"))\n",
    "library(\"ggplot2\")\n",
    "\n",
    "library(\"RColorBrewer\")\n",
    "\n",
    "library(\"pcaExplorer\")"
   ]
  },
  {
   "cell_type": "code",
   "execution_count": 54,
   "metadata": {},
   "outputs": [
    {
     "data": {
      "text/plain": [
       "                 N2_CTR_1 N2_CTR_3 N2_CTR_4 N2_HS_1 N2_HS_3 N2_HS_4\n",
       "WBGene00022277_1        4        3        7       0       1       5\n",
       "WBGene00022277_2       14        4       22       0       3       8\n",
       "WBGene00022277_3       19       36       45      10       8      26\n",
       "WBGene00022277_4        9        9       11      11      10       5\n",
       "WBGene00022276_1        8        6        8       8       4       7\n",
       "WBGene00022276_5       59       85       96      18      20      34\n"
      ]
     },
     "metadata": {},
     "output_type": "display_data"
    }
   ],
   "source": [
    "%%R\n",
    "counts <- read.csv('counts_for_deseq2.csv', header=TRUE, row.names=1)\n",
    "\n",
    "counts$Length <- NULL\n",
    "\n",
    "head(counts)"
   ]
  },
  {
   "cell_type": "code",
   "execution_count": 55,
   "metadata": {},
   "outputs": [
    {
     "data": {
      "text/plain": [
       "         condition\n",
       "N2_CTR_1       CTR\n",
       "N2_CTR_3       CTR\n",
       "N2_CTR_4       CTR\n",
       "N2_HS_1         HS\n",
       "N2_HS_3         HS\n",
       "N2_HS_4         HS\n"
      ]
     },
     "metadata": {},
     "output_type": "display_data"
    }
   ],
   "source": [
    "%%R \n",
    "\n",
    "col_data <- read.csv('conditions_for_deseq2.csv',\n",
    "                  header=TRUE, row.names=1)\n",
    "\n",
    "head(col_data)"
   ]
  },
  {
   "cell_type": "code",
   "execution_count": 56,
   "metadata": {},
   "outputs": [],
   "source": [
    "%%R\n",
    "\n",
    "dds <- DESeqDataSetFromMatrix(countData = counts,\n",
    "                              colData = col_data,\n",
    "                              design = ~ condition)"
   ]
  },
  {
   "cell_type": "code",
   "execution_count": 57,
   "metadata": {},
   "outputs": [],
   "source": [
    "%%R\n",
    "# Get the NORMALIZED READS from Deseq2 \n",
    "\n",
    "dds <- estimateSizeFactors(dds)\n",
    "all_norm_counts=counts(dds, normalized=TRUE)\n",
    "\n",
    "# convert it to a dataframe then save it to a csv\n",
    "all_norm_counts_df <-as.data.frame(all_norm_counts)\n",
    "write.csv(as.data.frame(all_norm_counts_df), file=\"intron_normalized_DESEQ2_READS.csv\")\n"
   ]
  },
  {
   "cell_type": "code",
   "execution_count": null,
   "metadata": {},
   "outputs": [],
   "source": []
  },
  {
   "cell_type": "code",
   "execution_count": null,
   "metadata": {},
   "outputs": [],
   "source": []
  }
 ],
 "metadata": {
  "kernelspec": {
   "display_name": "Python 2",
   "language": "python",
   "name": "python2"
  },
  "language_info": {
   "codemirror_mode": {
    "name": "ipython",
    "version": 2
   },
   "file_extension": ".py",
   "mimetype": "text/x-python",
   "name": "python",
   "nbconvert_exporter": "python",
   "pygments_lexer": "ipython2",
   "version": "2.7.16"
  }
 },
 "nbformat": 4,
 "nbformat_minor": 2
}
