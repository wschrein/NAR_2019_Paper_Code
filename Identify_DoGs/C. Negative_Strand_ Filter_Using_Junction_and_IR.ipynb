{
 "cells": [
  {
   "cell_type": "code",
   "execution_count": 2,
   "metadata": {},
   "outputs": [],
   "source": [
    "# import all of the necessary libraries \n",
    "from __future__ import division\n",
    "import pandas as pd\n"
   ]
  },
  {
   "cell_type": "code",
   "execution_count": null,
   "metadata": {},
   "outputs": [],
   "source": [
    "\n",
    "# Get TPM using tpm function \n",
    "def counts_to_tpm(counts_matrix):\n",
    "    data_cols = counts_matrix.columns[1:]\n",
    "    rpk = counts_matrix[data_cols].divide((counts_matrix['Length']/1000), axis=0)\n",
    "    sums_per_million = rpk.sum(axis=0)/(10**6)\n",
    "    tpm = rpk.divide(sums_per_million)\n",
    "    \n",
    "    return tpm"
   ]
  },
  {
   "cell_type": "code",
   "execution_count": 3,
   "metadata": {},
   "outputs": [
    {
     "name": "stderr",
     "output_type": "stream",
     "text": [
      "/home/wschrein/anaconda2/lib/python2.7/site-packages/ipykernel_launcher.py:2: FutureWarning: read_table is deprecated, use read_csv instead, passing sep='\\t'.\n",
      "  \n"
     ]
    },
    {
     "data": {
      "text/html": [
       "<div>\n",
       "<style scoped>\n",
       "    .dataframe tbody tr th:only-of-type {\n",
       "        vertical-align: middle;\n",
       "    }\n",
       "\n",
       "    .dataframe tbody tr th {\n",
       "        vertical-align: top;\n",
       "    }\n",
       "\n",
       "    .dataframe thead th {\n",
       "        text-align: right;\n",
       "    }\n",
       "</style>\n",
       "<table border=\"1\" class=\"dataframe\">\n",
       "  <thead>\n",
       "    <tr style=\"text-align: right;\">\n",
       "      <th></th>\n",
       "      <th>Geneid</th>\n",
       "    </tr>\n",
       "  </thead>\n",
       "  <tbody>\n",
       "    <tr>\n",
       "      <th>0</th>\n",
       "      <td>WBGene00010957</td>\n",
       "    </tr>\n",
       "  </tbody>\n",
       "</table>\n",
       "</div>"
      ],
      "text/plain": [
       "           Geneid\n",
       "0  WBGene00010957"
      ]
     },
     "execution_count": 3,
     "metadata": {},
     "output_type": "execute_result"
    }
   ],
   "source": [
    "# get the list of protein coding genes \n",
    "pcgs = pd.read_table('gtf_protein_simpified.csv', names=['Geneid'])\n",
    "pcgs.head(1) # perfect"
   ]
  },
  {
   "cell_type": "code",
   "execution_count": 4,
   "metadata": {},
   "outputs": [],
   "source": [
    "# current gene IDs \n",
    "gene_names = pd.read_csv('c_elegans.PRJNA13758.current.geneIDs.txt', \n",
    "      names=['numba', 'Geneid', 'common_name', 'transcript', 'status']) \n",
    "\n",
    "gene_names.drop(['numba', 'status'],axis=1,inplace=True)"
   ]
  },
  {
   "cell_type": "code",
   "execution_count": 5,
   "metadata": {},
   "outputs": [],
   "source": [
    "# these are the genes that are up in heat shock; dogs and repeats have not been filtered out\n",
    "\n",
    "up = pd.read_csv('/home/wschrein/final/Figure1/up_genes_no_intron_filtering.csv')"
   ]
  },
  {
   "cell_type": "code",
   "execution_count": 16,
   "metadata": {},
   "outputs": [
    {
     "name": "stderr",
     "output_type": "stream",
     "text": [
      "/home/wschrein/anaconda2/lib/python2.7/site-packages/ipykernel_launcher.py:4: FutureWarning: read_table is deprecated, use read_csv instead, passing sep='\\t'.\n",
      "  after removing the cwd from sys.path.\n"
     ]
    },
    {
     "data": {
      "text/html": [
       "<div>\n",
       "<style scoped>\n",
       "    .dataframe tbody tr th:only-of-type {\n",
       "        vertical-align: middle;\n",
       "    }\n",
       "\n",
       "    .dataframe tbody tr th {\n",
       "        vertical-align: top;\n",
       "    }\n",
       "\n",
       "    .dataframe thead th {\n",
       "        text-align: right;\n",
       "    }\n",
       "</style>\n",
       "<table border=\"1\" class=\"dataframe\">\n",
       "  <thead>\n",
       "    <tr style=\"text-align: right;\">\n",
       "      <th></th>\n",
       "      <th>Chr</th>\n",
       "      <th>Start</th>\n",
       "      <th>End</th>\n",
       "      <th>Strand</th>\n",
       "      <th>Length</th>\n",
       "      <th>/home/wschrein/scratch/nuevo/att_1/bams/Sample1Aligned.out.sam.sorted.bam</th>\n",
       "      <th>/home/wschrein/scratch/nuevo/att_1/bams/Sample2Aligned.out.sam.sorted.bam</th>\n",
       "      <th>/home/wschrein/scratch/nuevo/att_1/bams/Sample3Aligned.out.sam.sorted.bam</th>\n",
       "      <th>/home/wschrein/scratch/nuevo/att_1/bams/Sample4Aligned.out.sam.sorted.bam</th>\n",
       "      <th>/home/wschrein/scratch/nuevo/att_1/bams/Sample5Aligned.out.sam.sorted.bam</th>\n",
       "      <th>/home/wschrein/scratch/nuevo/att_1/bams/Sample6Aligned.out.sam.sorted.bam</th>\n",
       "    </tr>\n",
       "    <tr>\n",
       "      <th>Geneid</th>\n",
       "      <th></th>\n",
       "      <th></th>\n",
       "      <th></th>\n",
       "      <th></th>\n",
       "      <th></th>\n",
       "      <th></th>\n",
       "      <th></th>\n",
       "      <th></th>\n",
       "      <th></th>\n",
       "      <th></th>\n",
       "      <th></th>\n",
       "    </tr>\n",
       "  </thead>\n",
       "  <tbody>\n",
       "    <tr>\n",
       "      <th>WBGene00023193</th>\n",
       "      <td>I</td>\n",
       "      <td>3900</td>\n",
       "      <td>3920</td>\n",
       "      <td>-</td>\n",
       "      <td>21</td>\n",
       "      <td>0</td>\n",
       "      <td>0</td>\n",
       "      <td>0</td>\n",
       "      <td>0</td>\n",
       "      <td>0</td>\n",
       "      <td>0</td>\n",
       "    </tr>\n",
       "    <tr>\n",
       "      <th>WBGene00022277</th>\n",
       "      <td>I</td>\n",
       "      <td>10223</td>\n",
       "      <td>10243</td>\n",
       "      <td>-</td>\n",
       "      <td>21</td>\n",
       "      <td>0</td>\n",
       "      <td>4</td>\n",
       "      <td>0</td>\n",
       "      <td>8</td>\n",
       "      <td>0</td>\n",
       "      <td>0</td>\n",
       "    </tr>\n",
       "    <tr>\n",
       "      <th>WBGene00022278</th>\n",
       "      <td>I</td>\n",
       "      <td>26772</td>\n",
       "      <td>26792</td>\n",
       "      <td>-</td>\n",
       "      <td>21</td>\n",
       "      <td>10</td>\n",
       "      <td>5</td>\n",
       "      <td>6</td>\n",
       "      <td>0</td>\n",
       "      <td>3</td>\n",
       "      <td>1</td>\n",
       "    </tr>\n",
       "    <tr>\n",
       "      <th>WBGene00022279</th>\n",
       "      <td>I</td>\n",
       "      <td>32473</td>\n",
       "      <td>32493</td>\n",
       "      <td>-</td>\n",
       "      <td>21</td>\n",
       "      <td>66</td>\n",
       "      <td>103</td>\n",
       "      <td>90</td>\n",
       "      <td>61</td>\n",
       "      <td>16</td>\n",
       "      <td>56</td>\n",
       "    </tr>\n",
       "  </tbody>\n",
       "</table>\n",
       "</div>"
      ],
      "text/plain": [
       "               Chr  Start    End Strand  Length  \\\n",
       "Geneid                                            \n",
       "WBGene00023193   I   3900   3920      -      21   \n",
       "WBGene00022277   I  10223  10243      -      21   \n",
       "WBGene00022278   I  26772  26792      -      21   \n",
       "WBGene00022279   I  32473  32493      -      21   \n",
       "\n",
       "                /home/wschrein/scratch/nuevo/att_1/bams/Sample1Aligned.out.sam.sorted.bam  \\\n",
       "Geneid                                                                                      \n",
       "WBGene00023193                                                  0                           \n",
       "WBGene00022277                                                  0                           \n",
       "WBGene00022278                                                 10                           \n",
       "WBGene00022279                                                 66                           \n",
       "\n",
       "                /home/wschrein/scratch/nuevo/att_1/bams/Sample2Aligned.out.sam.sorted.bam  \\\n",
       "Geneid                                                                                      \n",
       "WBGene00023193                                                  0                           \n",
       "WBGene00022277                                                  4                           \n",
       "WBGene00022278                                                  5                           \n",
       "WBGene00022279                                                103                           \n",
       "\n",
       "                /home/wschrein/scratch/nuevo/att_1/bams/Sample3Aligned.out.sam.sorted.bam  \\\n",
       "Geneid                                                                                      \n",
       "WBGene00023193                                                  0                           \n",
       "WBGene00022277                                                  0                           \n",
       "WBGene00022278                                                  6                           \n",
       "WBGene00022279                                                 90                           \n",
       "\n",
       "                /home/wschrein/scratch/nuevo/att_1/bams/Sample4Aligned.out.sam.sorted.bam  \\\n",
       "Geneid                                                                                      \n",
       "WBGene00023193                                                  0                           \n",
       "WBGene00022277                                                  8                           \n",
       "WBGene00022278                                                  0                           \n",
       "WBGene00022279                                                 61                           \n",
       "\n",
       "                /home/wschrein/scratch/nuevo/att_1/bams/Sample5Aligned.out.sam.sorted.bam  \\\n",
       "Geneid                                                                                      \n",
       "WBGene00023193                                                  0                           \n",
       "WBGene00022277                                                  0                           \n",
       "WBGene00022278                                                  3                           \n",
       "WBGene00022279                                                 16                           \n",
       "\n",
       "                /home/wschrein/scratch/nuevo/att_1/bams/Sample6Aligned.out.sam.sorted.bam  \n",
       "Geneid                                                                                     \n",
       "WBGene00023193                                                  0                          \n",
       "WBGene00022277                                                  0                          \n",
       "WBGene00022278                                                  1                          \n",
       "WBGene00022279                                                 56                          "
      ]
     },
     "execution_count": 16,
     "metadata": {},
     "output_type": "execute_result"
    }
   ],
   "source": [
    "# This file was genereated by using feature counts against BAM files\n",
    "# the SAF file generated in A. Make intergenic files\n",
    "\n",
    "negative_dogs = pd.read_table('negative_iDOGS.txt', comment='#', index_col=0)\n",
    "\n",
    "negative_dogs.head(4)"
   ]
  },
  {
   "cell_type": "code",
   "execution_count": 17,
   "metadata": {},
   "outputs": [
    {
     "name": "stdout",
     "output_type": "stream",
     "text": [
      "15525 negative_iDOGS.txt\n"
     ]
    }
   ],
   "source": [
    "! wc -l negative_iDOGS.txt  # how many lines"
   ]
  },
  {
   "cell_type": "code",
   "execution_count": 18,
   "metadata": {},
   "outputs": [],
   "source": [
    "negative_dogs = negative_dogs[negative_dogs['Strand']==\"-\"]"
   ]
  },
  {
   "cell_type": "code",
   "execution_count": 19,
   "metadata": {},
   "outputs": [
    {
     "data": {
      "text/html": [
       "<div>\n",
       "<style scoped>\n",
       "    .dataframe tbody tr th:only-of-type {\n",
       "        vertical-align: middle;\n",
       "    }\n",
       "\n",
       "    .dataframe tbody tr th {\n",
       "        vertical-align: top;\n",
       "    }\n",
       "\n",
       "    .dataframe thead th {\n",
       "        text-align: right;\n",
       "    }\n",
       "</style>\n",
       "<table border=\"1\" class=\"dataframe\">\n",
       "  <thead>\n",
       "    <tr style=\"text-align: right;\">\n",
       "      <th></th>\n",
       "      <th>Chr</th>\n",
       "      <th>Start</th>\n",
       "      <th>End</th>\n",
       "      <th>Strand</th>\n",
       "      <th>Length</th>\n",
       "      <th>ctr_1</th>\n",
       "      <th>ctr_3</th>\n",
       "      <th>ctr_4</th>\n",
       "      <th>hs_1</th>\n",
       "      <th>hs_3</th>\n",
       "      <th>hs_4</th>\n",
       "    </tr>\n",
       "    <tr>\n",
       "      <th>Geneid</th>\n",
       "      <th></th>\n",
       "      <th></th>\n",
       "      <th></th>\n",
       "      <th></th>\n",
       "      <th></th>\n",
       "      <th></th>\n",
       "      <th></th>\n",
       "      <th></th>\n",
       "      <th></th>\n",
       "      <th></th>\n",
       "      <th></th>\n",
       "    </tr>\n",
       "  </thead>\n",
       "  <tbody>\n",
       "    <tr>\n",
       "      <th>WBGene00023193</th>\n",
       "      <td>I</td>\n",
       "      <td>3900</td>\n",
       "      <td>3920</td>\n",
       "      <td>-</td>\n",
       "      <td>21</td>\n",
       "      <td>0</td>\n",
       "      <td>0</td>\n",
       "      <td>0</td>\n",
       "      <td>0</td>\n",
       "      <td>0</td>\n",
       "      <td>0</td>\n",
       "    </tr>\n",
       "  </tbody>\n",
       "</table>\n",
       "</div>"
      ],
      "text/plain": [
       "               Chr  Start   End Strand  Length  ctr_1  ctr_3  ctr_4  hs_1  \\\n",
       "Geneid                                                                      \n",
       "WBGene00023193   I   3900  3920      -      21      0      0      0     0   \n",
       "\n",
       "                hs_3  hs_4  \n",
       "Geneid                      \n",
       "WBGene00023193     0     0  "
      ]
     },
     "execution_count": 19,
     "metadata": {},
     "output_type": "execute_result"
    }
   ],
   "source": [
    "# change the column names to something more palatable \n",
    "\n",
    "negative_dogs = negative_dogs.rename(columns={'/home/wschrein/scratch/nuevo/att_1/bams/Sample1Aligned.out.sam.sorted.bam':'ctr_1',\n",
    "                          '/home/wschrein/scratch/nuevo/att_1/bams/Sample2Aligned.out.sam.sorted.bam':'ctr_3',\n",
    "                          '/home/wschrein/scratch/nuevo/att_1/bams/Sample3Aligned.out.sam.sorted.bam':'ctr_4',\n",
    "                          '/home/wschrein/scratch/nuevo/att_1/bams/Sample4Aligned.out.sam.sorted.bam':'hs_1',\n",
    "                          '/home/wschrein/scratch/nuevo/att_1/bams/Sample5Aligned.out.sam.sorted.bam':'hs_3',\n",
    "                          '/home/wschrein/scratch/nuevo/att_1/bams/Sample6Aligned.out.sam.sorted.bam':'hs_4'\n",
    "                          })\n",
    "negative_dogs.head(1)"
   ]
  },
  {
   "cell_type": "code",
   "execution_count": 20,
   "metadata": {},
   "outputs": [],
   "source": [
    "# make an info column of things that you might need later \n",
    "info_nd = negative_dogs.reset_index()\n",
    "info_nd = info_nd[['Geneid', 'Chr', 'Start', 'End']]"
   ]
  },
  {
   "cell_type": "code",
   "execution_count": 21,
   "metadata": {},
   "outputs": [],
   "source": [
    "# now get rid of them \n",
    "negative_dogs.drop(['Chr', 'Start', 'End'], inplace=True, axis=1)"
   ]
  },
  {
   "cell_type": "code",
   "execution_count": 22,
   "metadata": {},
   "outputs": [],
   "source": [
    "negative_dogs_tpm = counts_to_tpm(negative_dogs)\n",
    "negative_dogs_tpm.drop('Length', axis=1, inplace=True)"
   ]
  },
  {
   "cell_type": "code",
   "execution_count": 23,
   "metadata": {},
   "outputs": [
    {
     "data": {
      "text/html": [
       "<div>\n",
       "<style scoped>\n",
       "    .dataframe tbody tr th:only-of-type {\n",
       "        vertical-align: middle;\n",
       "    }\n",
       "\n",
       "    .dataframe tbody tr th {\n",
       "        vertical-align: top;\n",
       "    }\n",
       "\n",
       "    .dataframe thead th {\n",
       "        text-align: right;\n",
       "    }\n",
       "</style>\n",
       "<table border=\"1\" class=\"dataframe\">\n",
       "  <thead>\n",
       "    <tr style=\"text-align: right;\">\n",
       "      <th></th>\n",
       "      <th>ctr_1</th>\n",
       "      <th>ctr_3</th>\n",
       "      <th>ctr_4</th>\n",
       "      <th>hs_1</th>\n",
       "      <th>hs_3</th>\n",
       "      <th>hs_4</th>\n",
       "    </tr>\n",
       "    <tr>\n",
       "      <th>Geneid</th>\n",
       "      <th></th>\n",
       "      <th></th>\n",
       "      <th></th>\n",
       "      <th></th>\n",
       "      <th></th>\n",
       "      <th></th>\n",
       "    </tr>\n",
       "  </thead>\n",
       "  <tbody>\n",
       "    <tr>\n",
       "      <th>WBGene00023193</th>\n",
       "      <td>0.0</td>\n",
       "      <td>0.0</td>\n",
       "      <td>0.0</td>\n",
       "      <td>0.0</td>\n",
       "      <td>0.0</td>\n",
       "      <td>0.0</td>\n",
       "    </tr>\n",
       "  </tbody>\n",
       "</table>\n",
       "</div>"
      ],
      "text/plain": [
       "                ctr_1  ctr_3  ctr_4  hs_1  hs_3  hs_4\n",
       "Geneid                                               \n",
       "WBGene00023193    0.0    0.0    0.0   0.0   0.0   0.0"
      ]
     },
     "execution_count": 23,
     "metadata": {},
     "output_type": "execute_result"
    }
   ],
   "source": [
    "negative_dogs_tpm.head(1)"
   ]
  },
  {
   "cell_type": "code",
   "execution_count": 24,
   "metadata": {},
   "outputs": [
    {
     "data": {
      "text/plain": [
       "Index([u'ctr_1', u'ctr_3', u'ctr_4', u'hs_1', u'hs_3', u'hs_4'], dtype='object')"
      ]
     },
     "execution_count": 24,
     "metadata": {},
     "output_type": "execute_result"
    }
   ],
   "source": [
    "data_cols = negative_dogs_tpm.columns[0:]\n",
    "data_cols"
   ]
  },
  {
   "cell_type": "code",
   "execution_count": 25,
   "metadata": {},
   "outputs": [],
   "source": [
    "negative_dogs_tpm_filterd = negative_dogs_tpm.loc[negative_dogs_tpm[data_cols].sum(axis=1) > 0]"
   ]
  },
  {
   "cell_type": "code",
   "execution_count": 26,
   "metadata": {},
   "outputs": [
    {
     "data": {
      "text/html": [
       "<div>\n",
       "<style scoped>\n",
       "    .dataframe tbody tr th:only-of-type {\n",
       "        vertical-align: middle;\n",
       "    }\n",
       "\n",
       "    .dataframe tbody tr th {\n",
       "        vertical-align: top;\n",
       "    }\n",
       "\n",
       "    .dataframe thead th {\n",
       "        text-align: right;\n",
       "    }\n",
       "</style>\n",
       "<table border=\"1\" class=\"dataframe\">\n",
       "  <thead>\n",
       "    <tr style=\"text-align: right;\">\n",
       "      <th></th>\n",
       "      <th>ctr_1</th>\n",
       "      <th>ctr_3</th>\n",
       "      <th>ctr_4</th>\n",
       "      <th>hs_1</th>\n",
       "      <th>hs_3</th>\n",
       "      <th>hs_4</th>\n",
       "    </tr>\n",
       "    <tr>\n",
       "      <th>Geneid</th>\n",
       "      <th></th>\n",
       "      <th></th>\n",
       "      <th></th>\n",
       "      <th></th>\n",
       "      <th></th>\n",
       "      <th></th>\n",
       "    </tr>\n",
       "  </thead>\n",
       "  <tbody>\n",
       "    <tr>\n",
       "      <th>WBGene00022277</th>\n",
       "      <td>0.0</td>\n",
       "      <td>158.868854</td>\n",
       "      <td>0.0</td>\n",
       "      <td>128.392367</td>\n",
       "      <td>0.0</td>\n",
       "      <td>0.0</td>\n",
       "    </tr>\n",
       "  </tbody>\n",
       "</table>\n",
       "</div>"
      ],
      "text/plain": [
       "                ctr_1       ctr_3  ctr_4        hs_1  hs_3  hs_4\n",
       "Geneid                                                          \n",
       "WBGene00022277    0.0  158.868854    0.0  128.392367   0.0   0.0"
      ]
     },
     "execution_count": 26,
     "metadata": {},
     "output_type": "execute_result"
    }
   ],
   "source": [
    "negative_dogs_tpm_filterd.head(1)"
   ]
  },
  {
   "cell_type": "code",
   "execution_count": 27,
   "metadata": {},
   "outputs": [],
   "source": [
    "negative_dogs_tpm_filterd = negative_dogs_tpm_filterd.copy()  # make copy to avoid slicing error message"
   ]
  },
  {
   "cell_type": "code",
   "execution_count": 28,
   "metadata": {},
   "outputs": [
    {
     "data": {
      "text/html": [
       "<div>\n",
       "<style scoped>\n",
       "    .dataframe tbody tr th:only-of-type {\n",
       "        vertical-align: middle;\n",
       "    }\n",
       "\n",
       "    .dataframe tbody tr th {\n",
       "        vertical-align: top;\n",
       "    }\n",
       "\n",
       "    .dataframe thead th {\n",
       "        text-align: right;\n",
       "    }\n",
       "</style>\n",
       "<table border=\"1\" class=\"dataframe\">\n",
       "  <thead>\n",
       "    <tr style=\"text-align: right;\">\n",
       "      <th></th>\n",
       "      <th>ctr_1</th>\n",
       "      <th>ctr_3</th>\n",
       "      <th>ctr_4</th>\n",
       "      <th>hs_1</th>\n",
       "      <th>hs_3</th>\n",
       "      <th>hs_4</th>\n",
       "    </tr>\n",
       "    <tr>\n",
       "      <th>Geneid</th>\n",
       "      <th></th>\n",
       "      <th></th>\n",
       "      <th></th>\n",
       "      <th></th>\n",
       "      <th></th>\n",
       "      <th></th>\n",
       "    </tr>\n",
       "  </thead>\n",
       "  <tbody>\n",
       "    <tr>\n",
       "      <th>WBGene00022277</th>\n",
       "      <td>0.000000</td>\n",
       "      <td>158.868854</td>\n",
       "      <td>0.000000</td>\n",
       "      <td>128.392367</td>\n",
       "      <td>0.000000</td>\n",
       "      <td>0.000000</td>\n",
       "    </tr>\n",
       "    <tr>\n",
       "      <th>WBGene00022278</th>\n",
       "      <td>343.453771</td>\n",
       "      <td>198.586067</td>\n",
       "      <td>235.793445</td>\n",
       "      <td>0.000000</td>\n",
       "      <td>81.741642</td>\n",
       "      <td>17.404926</td>\n",
       "    </tr>\n",
       "    <tr>\n",
       "      <th>WBGene00022279</th>\n",
       "      <td>2266.794889</td>\n",
       "      <td>4090.872984</td>\n",
       "      <td>3536.901674</td>\n",
       "      <td>978.991799</td>\n",
       "      <td>435.955424</td>\n",
       "      <td>974.675833</td>\n",
       "    </tr>\n",
       "    <tr>\n",
       "      <th>WBGene00021679</th>\n",
       "      <td>68.690754</td>\n",
       "      <td>0.000000</td>\n",
       "      <td>550.184705</td>\n",
       "      <td>0.000000</td>\n",
       "      <td>0.000000</td>\n",
       "      <td>34.809851</td>\n",
       "    </tr>\n",
       "    <tr>\n",
       "      <th>WBGene00189949</th>\n",
       "      <td>0.000000</td>\n",
       "      <td>0.000000</td>\n",
       "      <td>0.000000</td>\n",
       "      <td>0.000000</td>\n",
       "      <td>0.000000</td>\n",
       "      <td>34.809851</td>\n",
       "    </tr>\n",
       "  </tbody>\n",
       "</table>\n",
       "</div>"
      ],
      "text/plain": [
       "                      ctr_1        ctr_3        ctr_4        hs_1        hs_3  \\\n",
       "Geneid                                                                          \n",
       "WBGene00022277     0.000000   158.868854     0.000000  128.392367    0.000000   \n",
       "WBGene00022278   343.453771   198.586067   235.793445    0.000000   81.741642   \n",
       "WBGene00022279  2266.794889  4090.872984  3536.901674  978.991799  435.955424   \n",
       "WBGene00021679    68.690754     0.000000   550.184705    0.000000    0.000000   \n",
       "WBGene00189949     0.000000     0.000000     0.000000    0.000000    0.000000   \n",
       "\n",
       "                      hs_4  \n",
       "Geneid                      \n",
       "WBGene00022277    0.000000  \n",
       "WBGene00022278   17.404926  \n",
       "WBGene00022279  974.675833  \n",
       "WBGene00021679   34.809851  \n",
       "WBGene00189949   34.809851  "
      ]
     },
     "execution_count": 28,
     "metadata": {},
     "output_type": "execute_result"
    }
   ],
   "source": [
    "negative_dogs_tpm_filterd.head()"
   ]
  },
  {
   "cell_type": "markdown",
   "metadata": {},
   "source": [
    "# Calculate the intergenic Ratio"
   ]
  },
  {
   "cell_type": "code",
   "execution_count": 29,
   "metadata": {},
   "outputs": [],
   "source": [
    "negative_dogs_tpm_filterd['ctrl_total'] = negative_dogs_tpm_filterd.ctr_1 + negative_dogs_tpm_filterd.ctr_3 + negative_dogs_tpm_filterd.ctr_4"
   ]
  },
  {
   "cell_type": "code",
   "execution_count": 30,
   "metadata": {},
   "outputs": [],
   "source": [
    "negative_dogs_tpm_filterd['hs_total'] = negative_dogs_tpm_filterd.hs_1 + negative_dogs_tpm_filterd.hs_3 + negative_dogs_tpm_filterd.hs_4"
   ]
  },
  {
   "cell_type": "code",
   "execution_count": 31,
   "metadata": {},
   "outputs": [],
   "source": [
    "# add one to all control to avoid divide by 0 error\n",
    "\n",
    "negative_dogs_tpm_filterd['ctrl_total'] = negative_dogs_tpm_filterd.ctrl_total +1"
   ]
  },
  {
   "cell_type": "code",
   "execution_count": 34,
   "metadata": {},
   "outputs": [],
   "source": [
    "# Calculate the intergenic HS ratio\n",
    "negative_dogs_tpm_filterd['ratio'] = negative_dogs_tpm_filterd['hs_total'] / negative_dogs_tpm_filterd['ctrl_total']"
   ]
  },
  {
   "cell_type": "code",
   "execution_count": null,
   "metadata": {},
   "outputs": [],
   "source": [
    "negative_dogs_tpm_filterd.head()"
   ]
  },
  {
   "cell_type": "markdown",
   "metadata": {},
   "source": [
    "## Make it so that only two replicates need to be non-zero ###"
   ]
  },
  {
   "cell_type": "code",
   "execution_count": 36,
   "metadata": {},
   "outputs": [],
   "source": [
    "# Make it so that only two replicates have to be non-zero\n",
    "_1_3 = negative_dogs_tpm_filterd[(negative_dogs_tpm_filterd['hs_1']!=0) & (negative_dogs_tpm_filterd['hs_3']!=0)]\n",
    "_1_4 = negative_dogs_tpm_filterd[(negative_dogs_tpm_filterd['hs_1']!=0) & (negative_dogs_tpm_filterd['hs_4']!=0)]\n",
    "_3_4 = negative_dogs_tpm_filterd[(negative_dogs_tpm_filterd['hs_3']!=0) & (negative_dogs_tpm_filterd['hs_4']!=0)]\n"
   ]
  },
  {
   "cell_type": "code",
   "execution_count": 51,
   "metadata": {},
   "outputs": [
    {
     "data": {
      "text/plain": [
       "2649"
      ]
     },
     "execution_count": 51,
     "metadata": {},
     "output_type": "execute_result"
    }
   ],
   "source": [
    "df_concat = pd.concat([_1_3,_1_4,_3_4]) # now add them on top of each other \n",
    "df_concat.reset_index(inplace=True)\n",
    "df_concat.drop_duplicates(inplace=True)  # remove duplicates \n",
    "\n",
    "len(df_concat) # how many rows"
   ]
  },
  {
   "cell_type": "code",
   "execution_count": 52,
   "metadata": {},
   "outputs": [],
   "source": [
    "# rename the file to neg_filtered\n",
    "neg_filtered = df_concat"
   ]
  },
  {
   "cell_type": "code",
   "execution_count": 54,
   "metadata": {},
   "outputs": [
    {
     "data": {
      "text/html": [
       "<div>\n",
       "<style scoped>\n",
       "    .dataframe tbody tr th:only-of-type {\n",
       "        vertical-align: middle;\n",
       "    }\n",
       "\n",
       "    .dataframe tbody tr th {\n",
       "        vertical-align: top;\n",
       "    }\n",
       "\n",
       "    .dataframe thead th {\n",
       "        text-align: right;\n",
       "    }\n",
       "</style>\n",
       "<table border=\"1\" class=\"dataframe\">\n",
       "  <thead>\n",
       "    <tr style=\"text-align: right;\">\n",
       "      <th></th>\n",
       "      <th>Geneid</th>\n",
       "      <th>ctr_1</th>\n",
       "      <th>ctr_3</th>\n",
       "      <th>ctr_4</th>\n",
       "      <th>hs_1</th>\n",
       "      <th>hs_3</th>\n",
       "      <th>hs_4</th>\n",
       "      <th>ctrl_total</th>\n",
       "      <th>hs_total</th>\n",
       "      <th>ratio</th>\n",
       "    </tr>\n",
       "  </thead>\n",
       "  <tbody>\n",
       "    <tr>\n",
       "      <th>0</th>\n",
       "      <td>WBGene00004274</td>\n",
       "      <td>68.690754</td>\n",
       "      <td>0.0</td>\n",
       "      <td>157.19563</td>\n",
       "      <td>256.784734</td>\n",
       "      <td>190.730498</td>\n",
       "      <td>156.64433</td>\n",
       "      <td>226.886384</td>\n",
       "      <td>604.159562</td>\n",
       "      <td>2.662829</td>\n",
       "    </tr>\n",
       "  </tbody>\n",
       "</table>\n",
       "</div>"
      ],
      "text/plain": [
       "           Geneid      ctr_1  ctr_3      ctr_4        hs_1        hs_3  \\\n",
       "0  WBGene00004274  68.690754    0.0  157.19563  256.784734  190.730498   \n",
       "\n",
       "        hs_4  ctrl_total    hs_total     ratio  \n",
       "0  156.64433  226.886384  604.159562  2.662829  "
      ]
     },
     "execution_count": 54,
     "metadata": {},
     "output_type": "execute_result"
    }
   ],
   "source": [
    "# get list of Genes with an intergenic ratio of greater than 2\n",
    "# By Trial an error this seems to be a good ratio to filter out DoGs\n",
    "\n",
    "neg_filtered = neg_filtered[neg_filtered['ratio']>2]\n",
    "neg_filtered.reset_index(inplace=True, drop=True)\n",
    "neg_filtered.head(1)"
   ]
  },
  {
   "cell_type": "code",
   "execution_count": 55,
   "metadata": {},
   "outputs": [],
   "source": [
    "# we are most concerned with filtering out pcgs\n",
    "# so merge with list of protein coding genes\n",
    "# pcgs were determined by parsing gtf file for genes \n",
    "# annotated as pcgs\n",
    "\n",
    "neg_filtered = pd.merge(neg_filtered, pcgs, how='inner', on='Geneid')\n"
   ]
  },
  {
   "cell_type": "code",
   "execution_count": 58,
   "metadata": {},
   "outputs": [],
   "source": [
    "# import intron retention scores to further filter out\n",
    "# this file is a shortened version of the Intron Retention Generated in \n",
    "# Figure1/Calculate_Intron_Retention_Score\n",
    "# it has been mereged with HS up genes, so it only has scores for HS up genes\n",
    "\n",
    "s2 = pd.read_csv('s2_scores.csv') \n",
    "s2.drop('Unnamed: 0', inplace=True, axis=1)  # get rid of unnecessary column\n",
    "\n",
    "s2.rename(columns={'WB_ID': 'Geneid', 'ratio':'IR_score'}, inplace = True)  # rename column for merging"
   ]
  },
  {
   "cell_type": "code",
   "execution_count": 59,
   "metadata": {},
   "outputs": [
    {
     "data": {
      "text/html": [
       "<div>\n",
       "<style scoped>\n",
       "    .dataframe tbody tr th:only-of-type {\n",
       "        vertical-align: middle;\n",
       "    }\n",
       "\n",
       "    .dataframe tbody tr th {\n",
       "        vertical-align: top;\n",
       "    }\n",
       "\n",
       "    .dataframe thead th {\n",
       "        text-align: right;\n",
       "    }\n",
       "</style>\n",
       "<table border=\"1\" class=\"dataframe\">\n",
       "  <thead>\n",
       "    <tr style=\"text-align: right;\">\n",
       "      <th></th>\n",
       "      <th>Geneid</th>\n",
       "      <th>ctr_1</th>\n",
       "      <th>ctr_3</th>\n",
       "      <th>ctr_4</th>\n",
       "      <th>hs_1</th>\n",
       "      <th>hs_3</th>\n",
       "      <th>hs_4</th>\n",
       "      <th>ctrl_total</th>\n",
       "      <th>hs_total</th>\n",
       "      <th>ratio</th>\n",
       "    </tr>\n",
       "  </thead>\n",
       "  <tbody>\n",
       "    <tr>\n",
       "      <th>0</th>\n",
       "      <td>WBGene00004274</td>\n",
       "      <td>68.690754</td>\n",
       "      <td>0.0</td>\n",
       "      <td>157.19563</td>\n",
       "      <td>256.784734</td>\n",
       "      <td>190.730498</td>\n",
       "      <td>156.64433</td>\n",
       "      <td>226.886384</td>\n",
       "      <td>604.159562</td>\n",
       "      <td>2.662829</td>\n",
       "    </tr>\n",
       "  </tbody>\n",
       "</table>\n",
       "</div>"
      ],
      "text/plain": [
       "           Geneid      ctr_1  ctr_3      ctr_4        hs_1        hs_3  \\\n",
       "0  WBGene00004274  68.690754    0.0  157.19563  256.784734  190.730498   \n",
       "\n",
       "        hs_4  ctrl_total    hs_total     ratio  \n",
       "0  156.64433  226.886384  604.159562  2.662829  "
      ]
     },
     "execution_count": 59,
     "metadata": {},
     "output_type": "execute_result"
    }
   ],
   "source": [
    "neg_filtered.head(1)"
   ]
  },
  {
   "cell_type": "code",
   "execution_count": 60,
   "metadata": {},
   "outputs": [],
   "source": [
    "neg_filtered = pd.merge(neg_filtered, s2, on='Geneid')\n"
   ]
  },
  {
   "cell_type": "code",
   "execution_count": 61,
   "metadata": {},
   "outputs": [
    {
     "data": {
      "text/html": [
       "<div>\n",
       "<style scoped>\n",
       "    .dataframe tbody tr th:only-of-type {\n",
       "        vertical-align: middle;\n",
       "    }\n",
       "\n",
       "    .dataframe tbody tr th {\n",
       "        vertical-align: top;\n",
       "    }\n",
       "\n",
       "    .dataframe thead th {\n",
       "        text-align: right;\n",
       "    }\n",
       "</style>\n",
       "<table border=\"1\" class=\"dataframe\">\n",
       "  <thead>\n",
       "    <tr style=\"text-align: right;\">\n",
       "      <th></th>\n",
       "      <th>Geneid</th>\n",
       "      <th>ctr_1</th>\n",
       "      <th>ctr_3</th>\n",
       "      <th>ctr_4</th>\n",
       "      <th>hs_1</th>\n",
       "      <th>hs_3</th>\n",
       "      <th>hs_4</th>\n",
       "      <th>ctrl_total</th>\n",
       "      <th>hs_total</th>\n",
       "      <th>ratio</th>\n",
       "      <th>IR_score</th>\n",
       "    </tr>\n",
       "  </thead>\n",
       "  <tbody>\n",
       "    <tr>\n",
       "      <th>0</th>\n",
       "      <td>WBGene00000788</td>\n",
       "      <td>0.0</td>\n",
       "      <td>0.0</td>\n",
       "      <td>0.0</td>\n",
       "      <td>128.392367</td>\n",
       "      <td>54.494428</td>\n",
       "      <td>0.0</td>\n",
       "      <td>1.0</td>\n",
       "      <td>182.886795</td>\n",
       "      <td>182.886795</td>\n",
       "      <td>0.016073</td>\n",
       "    </tr>\n",
       "  </tbody>\n",
       "</table>\n",
       "</div>"
      ],
      "text/plain": [
       "           Geneid  ctr_1  ctr_3  ctr_4        hs_1       hs_3  hs_4  \\\n",
       "0  WBGene00000788    0.0    0.0    0.0  128.392367  54.494428   0.0   \n",
       "\n",
       "   ctrl_total    hs_total       ratio  IR_score  \n",
       "0         1.0  182.886795  182.886795  0.016073  "
      ]
     },
     "execution_count": 61,
     "metadata": {},
     "output_type": "execute_result"
    }
   ],
   "source": [
    "neg_filtered.head(1)"
   ]
  },
  {
   "cell_type": "code",
   "execution_count": 62,
   "metadata": {},
   "outputs": [],
   "source": [
    "# Create list of genes with IJ ratio greater than2 and IR score greater than 0.4\n",
    "# by examination with genome browser this seems to filter out most bad DoGs\n",
    "\n",
    "\n",
    "neg_filtered = neg_filtered[neg_filtered.IR_score>.4]"
   ]
  },
  {
   "cell_type": "code",
   "execution_count": 63,
   "metadata": {},
   "outputs": [],
   "source": [
    "neg_filtered = neg_filtered[['Geneid']]"
   ]
  },
  {
   "cell_type": "code",
   "execution_count": 65,
   "metadata": {},
   "outputs": [],
   "source": [
    "## This file is used in Figure1/D1. Filter_the_up_Genes.ipynb\n",
    "## to filter out interfering DoG on the - strand\n",
    "\n",
    "neg_filtered.to_csv('up_negative_bad_dogs.csv',index=None)"
   ]
  }
 ],
 "metadata": {
  "kernelspec": {
   "display_name": "Python 2",
   "language": "python",
   "name": "python2"
  },
  "language_info": {
   "codemirror_mode": {
    "name": "ipython",
    "version": 2
   },
   "file_extension": ".py",
   "mimetype": "text/x-python",
   "name": "python",
   "nbconvert_exporter": "python",
   "pygments_lexer": "ipython2",
   "version": "2.7.16"
  }
 },
 "nbformat": 4,
 "nbformat_minor": 2
}
