{
 "cells": [
  {
   "cell_type": "code",
   "execution_count": 1,
   "metadata": {},
   "outputs": [],
   "source": [
    "# import the necessary libraries \n",
    "from __future__ import division\n",
    "import pandas as pd"
   ]
  },
  {
   "cell_type": "code",
   "execution_count": 7,
   "metadata": {},
   "outputs": [],
   "source": [
    "! cp /home/wschrein/00001_DOGS_Filter/A._Make_the_Necessary_File_for_5prime_Junctions/235_intergenic.txt ."
   ]
  },
  {
   "cell_type": "code",
   "execution_count": 3,
   "metadata": {},
   "outputs": [
    {
     "name": "stderr",
     "output_type": "stream",
     "text": [
      "/home/wschrein/anaconda2/lib/python2.7/site-packages/ipykernel_launcher.py:3: FutureWarning: read_table is deprecated, use read_csv instead, passing sep='\\t'.\n",
      "  This is separate from the ipykernel package so we can avoid doing imports until\n"
     ]
    }
   ],
   "source": [
    "# import gtf files in order to get the strand information \n",
    "# this is only necessary for the strand information \n",
    "gtf = pd.read_table('c_elegans.PRJNA13758.WS263.canonical_geneset.gtf',\n",
    "names=['chr', 'a', 'b', 'c', 'd', 'e', 'strand', 'g', 'gene'], comment='#')\n",
    "# Get WB_ID from the GTF file; WB_ID =WormbaseID\n",
    "WB_ID = []\n",
    "for i in gtf['gene']:\n",
    "    i = i.split()[1]\n",
    "    i = i.rstrip(\";\")\n",
    "    i = i.split((\"\\\"\"))[1]\n",
    "    WB_ID.append(i)\n",
    "gtf['WB_ID'] = WB_ID "
   ]
  },
  {
   "cell_type": "code",
   "execution_count": 6,
   "metadata": {},
   "outputs": [],
   "source": [
    "#UP_Stream_Gene_strand\n",
    "\n",
    "# we need two seperate gtfs to merged with the two intergenic regions to get \n",
    "#the strand information this will be for the Up_Stream_Gene\n",
    "\n",
    "gtf1 = gtf[['WB_ID', 'strand']]\n",
    "gtf1 = gtf1.drop_duplicates()\n",
    "gtf1.rename(columns={'WB_ID':'Up_Stream_Gene'}, inplace=True)\n",
    "\n",
    "gtf1.reset_index(inplace=True, drop=True)\n",
    "gtf1.head(1)  # looks good \n",
    "\n",
    "gtf2 =gtf[['WB_ID', 'strand']]\n",
    "gtf2 = gtf2.drop_duplicates()\n",
    "gtf2.rename(columns={'WB_ID':'Down_Stream_Gene'}, inplace=True)\n",
    "\n",
    "gtf2.reset_index(inplace=True, drop=True)"
   ]
  },
  {
   "cell_type": "code",
   "execution_count": 8,
   "metadata": {},
   "outputs": [
    {
     "name": "stderr",
     "output_type": "stream",
     "text": [
      "/home/wschrein/anaconda2/lib/python2.7/site-packages/ipykernel_launcher.py:4: FutureWarning: read_table is deprecated, use read_csv instead, passing sep='\\t'.\n",
      "  after removing the cwd from sys.path.\n"
     ]
    },
    {
     "data": {
      "text/html": [
       "<div>\n",
       "<style scoped>\n",
       "    .dataframe tbody tr th:only-of-type {\n",
       "        vertical-align: middle;\n",
       "    }\n",
       "\n",
       "    .dataframe tbody tr th {\n",
       "        vertical-align: top;\n",
       "    }\n",
       "\n",
       "    .dataframe thead th {\n",
       "        text-align: right;\n",
       "    }\n",
       "</style>\n",
       "<table border=\"1\" class=\"dataframe\">\n",
       "  <thead>\n",
       "    <tr style=\"text-align: right;\">\n",
       "      <th></th>\n",
       "      <th>location</th>\n",
       "    </tr>\n",
       "  </thead>\n",
       "  <tbody>\n",
       "    <tr>\n",
       "      <th>0</th>\n",
       "      <td>&gt;start_of_chromosome_I_WBGene00023193 I 1, len...</td>\n",
       "    </tr>\n",
       "  </tbody>\n",
       "</table>\n",
       "</div>"
      ],
      "text/plain": [
       "                                            location\n",
       "0  >start_of_chromosome_I_WBGene00023193 I 1, len..."
      ]
     },
     "execution_count": 8,
     "metadata": {},
     "output_type": "execute_result"
    }
   ],
   "source": [
    "# From wormbase this is the location of all of the intergenic regions in C. elegans\n",
    "# we need to parse this out\n",
    "\n",
    "df = pd.read_table('235_intergenic.txt',names=['location'])\n",
    "df.head(1)"
   ]
  },
  {
   "cell_type": "code",
   "execution_count": 9,
   "metadata": {},
   "outputs": [],
   "source": [
    "# Get rid of the start of chromosome locations and the end of chromosome locations\n",
    "\n",
    "special_start = []\n",
    "for i in df['location']:\n",
    "    if \"star\" in i:\n",
    "        special_start.append(i)\n",
    "    \n",
    "#special_start  \n",
    "\n",
    "special_end = []\n",
    "for i in df['location']:\n",
    "    if \"end\" in i:\n",
    "        special_end.append(i)\n",
    "\n",
    "#special_end #"
   ]
  },
  {
   "cell_type": "code",
   "execution_count": 11,
   "metadata": {},
   "outputs": [
    {
     "data": {
      "text/html": [
       "<div>\n",
       "<style scoped>\n",
       "    .dataframe tbody tr th:only-of-type {\n",
       "        vertical-align: middle;\n",
       "    }\n",
       "\n",
       "    .dataframe tbody tr th {\n",
       "        vertical-align: top;\n",
       "    }\n",
       "\n",
       "    .dataframe thead th {\n",
       "        text-align: right;\n",
       "    }\n",
       "</style>\n",
       "<table border=\"1\" class=\"dataframe\">\n",
       "  <thead>\n",
       "    <tr style=\"text-align: right;\">\n",
       "      <th></th>\n",
       "      <th>location</th>\n",
       "      <th>length</th>\n",
       "    </tr>\n",
       "  </thead>\n",
       "  <tbody>\n",
       "    <tr>\n",
       "      <th>0</th>\n",
       "      <td>&gt;start_of_chromosome_I_WBGene00023193 I 1, len...</td>\n",
       "      <td>3746</td>\n",
       "    </tr>\n",
       "    <tr>\n",
       "      <th>1</th>\n",
       "      <td>&gt;WBGene00023193_WBGene00022277 I 3910, len: 209</td>\n",
       "      <td>209</td>\n",
       "    </tr>\n",
       "  </tbody>\n",
       "</table>\n",
       "</div>"
      ],
      "text/plain": [
       "                                            location  length\n",
       "0  >start_of_chromosome_I_WBGene00023193 I 1, len...    3746\n",
       "1    >WBGene00023193_WBGene00022277 I 3910, len: 209     209"
      ]
     },
     "execution_count": 11,
     "metadata": {},
     "output_type": "execute_result"
    }
   ],
   "source": [
    "# get the length information from the file \n",
    "length = []\n",
    "for i in df.location:\n",
    "    i=i.split()[4]\n",
    "    length.append(i)\n",
    "\n",
    "df['length']=length\n",
    "type(df['length'][1])\n",
    "df.length = pd.to_numeric(df.length, errors='coerce') # the length had to be converted to a number since it was from a \n",
    "df.head(2)    "
   ]
  },
  {
   "cell_type": "code",
   "execution_count": 12,
   "metadata": {},
   "outputs": [
    {
     "name": "stdout",
     "output_type": "stream",
     "text": [
      ">start_of_chromosome_I_WBGene00023193 I 1, len: 3746\n",
      ">WBGene00023193_WBGene00022277 I 3910, len: 209\n"
     ]
    }
   ],
   "source": [
    "! head -n 2 235_intergenic.txt # sanity check that length is equal to len from file (looks ok)"
   ]
  },
  {
   "cell_type": "code",
   "execution_count": 21,
   "metadata": {},
   "outputs": [],
   "source": [
    "# Calculate the End of the intergenic location; should simply be Start + Length \n",
    "\n",
    "df['End'] = df['Start'] + df['length']"
   ]
  },
  {
   "cell_type": "code",
   "execution_count": 22,
   "metadata": {},
   "outputs": [
    {
     "data": {
      "text/html": [
       "<div>\n",
       "<style scoped>\n",
       "    .dataframe tbody tr th:only-of-type {\n",
       "        vertical-align: middle;\n",
       "    }\n",
       "\n",
       "    .dataframe tbody tr th {\n",
       "        vertical-align: top;\n",
       "    }\n",
       "\n",
       "    .dataframe thead th {\n",
       "        text-align: right;\n",
       "    }\n",
       "</style>\n",
       "<table border=\"1\" class=\"dataframe\">\n",
       "  <thead>\n",
       "    <tr style=\"text-align: right;\">\n",
       "      <th></th>\n",
       "      <th>location</th>\n",
       "      <th>length</th>\n",
       "      <th>Start</th>\n",
       "      <th>End</th>\n",
       "      <th>Up_Stream_Gene</th>\n",
       "    </tr>\n",
       "  </thead>\n",
       "  <tbody>\n",
       "    <tr>\n",
       "      <th>0</th>\n",
       "      <td>&gt;start_of_chromosome_I_WBGene00023193 I 1, len...</td>\n",
       "      <td>3746</td>\n",
       "      <td>1</td>\n",
       "      <td>3747</td>\n",
       "      <td>start</td>\n",
       "    </tr>\n",
       "    <tr>\n",
       "      <th>1</th>\n",
       "      <td>&gt;WBGene00023193_WBGene00022277 I 3910, len: 209</td>\n",
       "      <td>209</td>\n",
       "      <td>3910</td>\n",
       "      <td>4119</td>\n",
       "      <td>WBGene00023193</td>\n",
       "    </tr>\n",
       "  </tbody>\n",
       "</table>\n",
       "</div>"
      ],
      "text/plain": [
       "                                            location  length  Start   End  \\\n",
       "0  >start_of_chromosome_I_WBGene00023193 I 1, len...    3746      1  3747   \n",
       "1    >WBGene00023193_WBGene00022277 I 3910, len: 209     209   3910  4119   \n",
       "\n",
       "   Up_Stream_Gene  \n",
       "0           start  \n",
       "1  WBGene00023193  "
      ]
     },
     "execution_count": 22,
     "metadata": {},
     "output_type": "execute_result"
    }
   ],
   "source": [
    "df.head(2)"
   ]
  },
  {
   "cell_type": "code",
   "execution_count": 23,
   "metadata": {},
   "outputs": [],
   "source": [
    "# Get the upstreamGene, aka the gene that is the first one \n",
    "up_stream_gene = []\n",
    "for i in df['location']:\n",
    "    i = i.split(\"_\")[0]\n",
    "    i = i.split(\">\")[1]\n",
    "    up_stream_gene.append(i)\n",
    "df['Up_Stream_Gene'] = up_stream_gene"
   ]
  },
  {
   "cell_type": "code",
   "execution_count": 24,
   "metadata": {},
   "outputs": [],
   "source": [
    "# same for downstream\n",
    "\n",
    "down_stream_gene = []\n",
    "for i in df['location']:\n",
    "    i = i.split(\"_\")[1]\n",
    "    i = i.split()[0]\n",
    "    down_stream_gene.append(i)\n",
    "df['Down_Stream_Gene'] = down_stream_gene"
   ]
  },
  {
   "cell_type": "code",
   "execution_count": 25,
   "metadata": {},
   "outputs": [],
   "source": [
    "# Get the chromosome for each Gene  \n",
    "\n",
    "Chrom = []\n",
    "for i in df['location']:\n",
    "    if \"start\" in i:\n",
    "        Chrom.append(i)\n",
    "    elif \"end\" in i:\n",
    "        Chrom.append(i)\n",
    "    else:\n",
    "        i = i.split(\"_\")[1]\n",
    "        i = i.split()[1]\n",
    "        Chrom.append(i)\n",
    "df['Chr'] = Chrom\n"
   ]
  },
  {
   "cell_type": "code",
   "execution_count": 30,
   "metadata": {},
   "outputs": [
    {
     "name": "stdout",
     "output_type": "stream",
     "text": [
      "30445\n",
      "30705\n"
     ]
    }
   ],
   "source": [
    "df_gene1 = pd.merge(df,gtf1, how='inner', on='Up_Stream_Gene')\n",
    "df_gene1 = df_gene1[~df_gene1['location'].str.contains(\"end\")] # get rid of end of chromosome entries \n",
    "print(len(df_gene1))\n",
    "print(len(df))"
   ]
  },
  {
   "cell_type": "code",
   "execution_count": 32,
   "metadata": {},
   "outputs": [],
   "source": [
    "# same for gene2\n",
    "df_gene2 = pd.merge(df, gtf2, how='inner', on='Down_Stream_Gene')"
   ]
  },
  {
   "cell_type": "markdown",
   "metadata": {},
   "source": [
    "#### Making Upstream Gene SAF\n",
    "SAF file is a file format that featureCounts can use to count reads \n",
    "Only need GeneID Start End Chr Strand\n",
    "\n",
    "The goal is to get the 5' Junction for a Gene on the negative strand \n",
    "This gene will be the ustream gene since transcription will be going in the opposite direction \n",
    "\n",
    "\n",
    "GENE1_____________________GENE2\n",
    "           <---\n",
    "If gene 1 IS on the negative strand then the 5'junction will be the start location from the annotation file\n",
    "\n",
    "To get a 5' junction go 10 nts in from the start(start-10), to get the end (in the intergenic region) add 10 nts\n",
    "\n",
    "This will give a 21 nt region from which to get reads\n"
   ]
  },
  {
   "cell_type": "code",
   "execution_count": 33,
   "metadata": {},
   "outputs": [
    {
     "data": {
      "text/html": [
       "<div>\n",
       "<style scoped>\n",
       "    .dataframe tbody tr th:only-of-type {\n",
       "        vertical-align: middle;\n",
       "    }\n",
       "\n",
       "    .dataframe tbody tr th {\n",
       "        vertical-align: top;\n",
       "    }\n",
       "\n",
       "    .dataframe thead th {\n",
       "        text-align: right;\n",
       "    }\n",
       "</style>\n",
       "<table border=\"1\" class=\"dataframe\">\n",
       "  <thead>\n",
       "    <tr style=\"text-align: right;\">\n",
       "      <th></th>\n",
       "      <th>Up_Stream_Gene</th>\n",
       "      <th>Chr</th>\n",
       "      <th>Start</th>\n",
       "      <th>End</th>\n",
       "      <th>strand</th>\n",
       "    </tr>\n",
       "  </thead>\n",
       "  <tbody>\n",
       "    <tr>\n",
       "      <th>0</th>\n",
       "      <td>WBGene00023193</td>\n",
       "      <td>I</td>\n",
       "      <td>3910</td>\n",
       "      <td>4119</td>\n",
       "      <td>-</td>\n",
       "    </tr>\n",
       "  </tbody>\n",
       "</table>\n",
       "</div>"
      ],
      "text/plain": [
       "   Up_Stream_Gene Chr  Start   End strand\n",
       "0  WBGene00023193   I   3910  4119      -"
      ]
     },
     "execution_count": 33,
     "metadata": {},
     "output_type": "execute_result"
    }
   ],
   "source": [
    "# Make the up_stream_gene_SAF\n",
    "saf_up_stream_gene = df_gene1[['Up_Stream_Gene', 'Chr', 'Start', 'End', 'strand']]\n",
    "saf_up_stream_gene = saf_up_stream_gene[saf_up_stream_gene.strand=='-']\n",
    "saf_up_stream_gene.head(1)"
   ]
  },
  {
   "cell_type": "code",
   "execution_count": 34,
   "metadata": {},
   "outputs": [],
   "source": [
    "saf_up_stream_gene = saf_up_stream_gene.rename(columns={'Up_Stream_Gene':'GeneID',\n",
    "                                                     'strand':'Strand'})\n",
    "\n"
   ]
  },
  {
   "cell_type": "code",
   "execution_count": 35,
   "metadata": {},
   "outputs": [],
   "source": [
    "saf_up_stream_gene.drop('End', inplace=True, axis=1)"
   ]
  },
  {
   "cell_type": "code",
   "execution_count": 36,
   "metadata": {},
   "outputs": [],
   "source": [
    "saf_up_stream_gene['End'] = saf_up_stream_gene['Start'] + 10"
   ]
  },
  {
   "cell_type": "code",
   "execution_count": 37,
   "metadata": {},
   "outputs": [],
   "source": [
    "saf_up_stream_gene['New_Start'] = saf_up_stream_gene['Start'] - 10"
   ]
  },
  {
   "cell_type": "code",
   "execution_count": 38,
   "metadata": {},
   "outputs": [],
   "source": [
    "saf_up_stream_gene.drop('Start', inplace=True, axis=1)"
   ]
  },
  {
   "cell_type": "code",
   "execution_count": 40,
   "metadata": {},
   "outputs": [],
   "source": [
    "saf_up_stream_gene = saf_up_stream_gene.rename(columns={'New_Start':'Start'})\n",
    "saf_up_stream_gene = saf_up_stream_gene[['GeneID','Chr','Start','End','Strand']]"
   ]
  },
  {
   "cell_type": "code",
   "execution_count": 41,
   "metadata": {},
   "outputs": [
    {
     "data": {
      "text/html": [
       "<div>\n",
       "<style scoped>\n",
       "    .dataframe tbody tr th:only-of-type {\n",
       "        vertical-align: middle;\n",
       "    }\n",
       "\n",
       "    .dataframe tbody tr th {\n",
       "        vertical-align: top;\n",
       "    }\n",
       "\n",
       "    .dataframe thead th {\n",
       "        text-align: right;\n",
       "    }\n",
       "</style>\n",
       "<table border=\"1\" class=\"dataframe\">\n",
       "  <thead>\n",
       "    <tr style=\"text-align: right;\">\n",
       "      <th></th>\n",
       "      <th>GeneID</th>\n",
       "      <th>Chr</th>\n",
       "      <th>Start</th>\n",
       "      <th>End</th>\n",
       "      <th>Strand</th>\n",
       "    </tr>\n",
       "  </thead>\n",
       "  <tbody>\n",
       "    <tr>\n",
       "      <th>30442</th>\n",
       "      <td>WBGene00019189</td>\n",
       "      <td>X</td>\n",
       "      <td>17711665</td>\n",
       "      <td>17711685</td>\n",
       "      <td>-</td>\n",
       "    </tr>\n",
       "  </tbody>\n",
       "</table>\n",
       "</div>"
      ],
      "text/plain": [
       "               GeneID Chr     Start       End Strand\n",
       "30442  WBGene00019189   X  17711665  17711685      -"
      ]
     },
     "execution_count": 41,
     "metadata": {},
     "output_type": "execute_result"
    }
   ],
   "source": [
    "saf_up_stream_gene.tail(1) # make sure that it looks ok\n",
    "                           # Randomly access rows and then go to the Genome Browser to verify that it worked "
   ]
  },
  {
   "cell_type": "code",
   "execution_count": 43,
   "metadata": {},
   "outputs": [],
   "source": [
    "saf_up_stream_gene.to_csv('saf_up_stream_Gene.saf', sep='\\t', index=False)"
   ]
  },
  {
   "cell_type": "markdown",
   "metadata": {},
   "source": [
    "## Make SAF for Down Stream Gene\n",
    "\n",
    "Similar logic to above \n",
    "\n",
    "If we want to get the 5 prime junction for a gene on the plus strand we want to look at the downstream Gene \n",
    "\n",
    "GENE1___________________GENE2 \n",
    "                     ----->  "
   ]
  },
  {
   "cell_type": "code",
   "execution_count": 45,
   "metadata": {},
   "outputs": [],
   "source": [
    "saf_down_stream_gene = df_gene2[['Down_Stream_Gene', 'Chr', 'Start', 'End', 'strand']]\n"
   ]
  },
  {
   "cell_type": "code",
   "execution_count": 46,
   "metadata": {},
   "outputs": [],
   "source": [
    "saf_down_stream_gene = saf_down_stream_gene[saf_down_stream_gene.strand=='+']"
   ]
  },
  {
   "cell_type": "code",
   "execution_count": 47,
   "metadata": {},
   "outputs": [],
   "source": [
    "saf_down_stream_gene = saf_down_stream_gene.rename(columns={'strand':'Strand',\n",
    "                                  'Up_Stream_Gene':'GeneID'})\n"
   ]
  },
  {
   "cell_type": "code",
   "execution_count": 48,
   "metadata": {},
   "outputs": [],
   "source": [
    "saf_down_stream_gene.drop('Start', inplace=True, axis=1)"
   ]
  },
  {
   "cell_type": "code",
   "execution_count": 49,
   "metadata": {},
   "outputs": [],
   "source": [
    "saf_down_stream_gene['Start'] = saf_down_stream_gene['End']-10"
   ]
  },
  {
   "cell_type": "code",
   "execution_count": 51,
   "metadata": {},
   "outputs": [],
   "source": [
    "saf_down_stream_gene['new_End'] = saf_down_stream_gene['End']+10"
   ]
  },
  {
   "cell_type": "code",
   "execution_count": 52,
   "metadata": {},
   "outputs": [],
   "source": [
    "saf_down_stream_gene.drop('End', inplace=True, axis=1)"
   ]
  },
  {
   "cell_type": "code",
   "execution_count": 53,
   "metadata": {},
   "outputs": [],
   "source": [
    "saf_down_stream_gene = saf_down_stream_gene.rename(columns={'new_End':'End',\n",
    "                                                         'Down_Stream_Gene':'GeneID'})\n"
   ]
  },
  {
   "cell_type": "code",
   "execution_count": 54,
   "metadata": {},
   "outputs": [],
   "source": [
    "saf_down_stream_gene = saf_down_stream_gene[['GeneID', 'Chr', 'Start', 'End', 'Strand']]"
   ]
  },
  {
   "cell_type": "code",
   "execution_count": 56,
   "metadata": {},
   "outputs": [],
   "source": [
    "saf_down_stream_gene.to_csv('saf_down_stream_Gene.saf', sep='\\t', index=False)"
   ]
  },
  {
   "cell_type": "code",
   "execution_count": 57,
   "metadata": {},
   "outputs": [
    {
     "data": {
      "text/html": [
       "<div>\n",
       "<style scoped>\n",
       "    .dataframe tbody tr th:only-of-type {\n",
       "        vertical-align: middle;\n",
       "    }\n",
       "\n",
       "    .dataframe tbody tr th {\n",
       "        vertical-align: top;\n",
       "    }\n",
       "\n",
       "    .dataframe thead th {\n",
       "        text-align: right;\n",
       "    }\n",
       "</style>\n",
       "<table border=\"1\" class=\"dataframe\">\n",
       "  <thead>\n",
       "    <tr style=\"text-align: right;\">\n",
       "      <th></th>\n",
       "      <th>GeneID</th>\n",
       "      <th>Chr</th>\n",
       "      <th>Start</th>\n",
       "      <th>End</th>\n",
       "      <th>Strand</th>\n",
       "    </tr>\n",
       "  </thead>\n",
       "  <tbody>\n",
       "    <tr>\n",
       "      <th>1</th>\n",
       "      <td>WBGene00022276</td>\n",
       "      <td>I</td>\n",
       "      <td>10403</td>\n",
       "      <td>10423</td>\n",
       "      <td>+</td>\n",
       "    </tr>\n",
       "    <tr>\n",
       "      <th>4</th>\n",
       "      <td>WBGene00022275</td>\n",
       "      <td>I</td>\n",
       "      <td>43723</td>\n",
       "      <td>43743</td>\n",
       "      <td>+</td>\n",
       "    </tr>\n",
       "    <tr>\n",
       "      <th>5</th>\n",
       "      <td>WBGene00044345</td>\n",
       "      <td>I</td>\n",
       "      <td>47462</td>\n",
       "      <td>47482</td>\n",
       "      <td>+</td>\n",
       "    </tr>\n",
       "    <tr>\n",
       "      <th>6</th>\n",
       "      <td>WBGene00021677</td>\n",
       "      <td>I</td>\n",
       "      <td>49909</td>\n",
       "      <td>49929</td>\n",
       "      <td>+</td>\n",
       "    </tr>\n",
       "    <tr>\n",
       "      <th>8</th>\n",
       "      <td>WBGene00000812</td>\n",
       "      <td>I</td>\n",
       "      <td>71848</td>\n",
       "      <td>71868</td>\n",
       "      <td>+</td>\n",
       "    </tr>\n",
       "  </tbody>\n",
       "</table>\n",
       "</div>"
      ],
      "text/plain": [
       "           GeneID Chr  Start    End Strand\n",
       "1  WBGene00022276   I  10403  10423      +\n",
       "4  WBGene00022275   I  43723  43743      +\n",
       "5  WBGene00044345   I  47462  47482      +\n",
       "6  WBGene00021677   I  49909  49929      +\n",
       "8  WBGene00000812   I  71848  71868      +"
      ]
     },
     "execution_count": 57,
     "metadata": {},
     "output_type": "execute_result"
    }
   ],
   "source": [
    "saf_down_stream_gene.head()"
   ]
  }
 ],
 "metadata": {
  "kernelspec": {
   "display_name": "Python 2",
   "language": "python",
   "name": "python2"
  },
  "language_info": {
   "codemirror_mode": {
    "name": "ipython",
    "version": 2
   },
   "file_extension": ".py",
   "mimetype": "text/x-python",
   "name": "python",
   "nbconvert_exporter": "python",
   "pygments_lexer": "ipython2",
   "version": "2.7.16"
  }
 },
 "nbformat": 4,
 "nbformat_minor": 2
}
