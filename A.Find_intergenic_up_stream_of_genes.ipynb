{
 "cells": [
  {
   "cell_type": "code",
   "execution_count": 1,
   "metadata": {},
   "outputs": [],
   "source": [
    "# import the necessary libraries \n",
    "import pandas as pd\n",
    "import numpy as np\n",
    "import seaborn as sns\n",
    "from __future__ import division\n",
    "import matplotlib.pyplot as plt\n",
    "%matplotlib inline"
   ]
  },
  {
   "cell_type": "code",
   "execution_count": null,
   "metadata": {},
   "outputs": [],
   "source": [
    "# import gtf files in order to get the strand information \n",
    "# this is only necessary for the strand information \n",
    "gtf=pd.read_table('c_elegans.PRJNA13758.WS263.canonical_geneset.gtf',names=['chr','a','b','c','d','e','strand','g','gene'], comment='#')\n",
    "# Get WB_ID from the GTF file; WB_ID =WormbaseID\n",
    "WB_ID=[]\n",
    "for i in gtf['gene']:\n",
    "    i=i.split()[1]\n",
    "    i=i.rstrip(\";\")\n",
    "    i=i.split((\"\\\"\"))[1]\n",
    "    WB_ID.append(i)\n",
    "gtf['WB_ID']=WB_ID "
   ]
  },
  {
   "cell_type": "code",
   "execution_count": null,
   "metadata": {},
   "outputs": [],
   "source": [
    "#UP_Stream_Gene\n",
    "\n",
    "# we need two seperate gtfs to merged with the two intergenic regions to get the strand information this will be for \n",
    "# the Up_Stream_Gene\n",
    "\n",
    "gtf1=gtf[['WB_ID','strand']]\n",
    "gtf1=gtf1.drop_duplicates()\n",
    "gtf1.rename(columns={'WB_ID':'Up_Stream_Gene'},inplace=True)\n",
    "\n",
    "gtf1.reset_index(inplace=True,drop=True)\n",
    "gtf1.head(1) # looks good "
   ]
  },
  {
   "cell_type": "code",
   "execution_count": null,
   "metadata": {},
   "outputs": [],
   "source": [
    "gtf2=gtf[['WB_ID','strand']]\n",
    "gtf2=gtf2.drop_duplicates()\n",
    "gtf2.rename(columns={'WB_ID':'Down_Stream_Gene'},inplace=True)\n",
    "\n",
    "gtf2.reset_index(inplace=True,drop=True)"
   ]
  },
  {
   "cell_type": "code",
   "execution_count": null,
   "metadata": {},
   "outputs": [],
   "source": [
    "# From wormbase this is the location of all of the intergenic regions in C. elegans\n",
    "# we need to parse this out\n",
    "\n",
    "df=pd.read_table('235_intergenic.txt',names=['location'])\n",
    "df.head(1)"
   ]
  },
  {
   "cell_type": "code",
   "execution_count": null,
   "metadata": {},
   "outputs": [],
   "source": [
    "# Get rid of the start of chromosome locations and the end of chromosome locations\n",
    "\n",
    "special_start=[]\n",
    "for i in df['location']:\n",
    "    if \"star\" in i:\n",
    "        special_start.append(i)\n",
    "    \n",
    "#special_start  \n",
    "\n",
    "special_end=[]\n",
    "for i in df['location']:\n",
    "    if \"end\" in i:\n",
    "        special_end.append(i)\n",
    "\n",
    "#special_end #"
   ]
  },
  {
   "cell_type": "code",
   "execution_count": null,
   "metadata": {},
   "outputs": [],
   "source": [
    "# get the length information from file \n",
    "length=[]\n",
    "for i in df.location:\n",
    "    i=i.split()[4]\n",
    "    length.append(i)\n",
    "\n",
    "df['length']=length\n",
    "type(df['length'][1])\n",
    "df.length = pd.to_numeric(df.length, errors='coerce') # the length had to be converted to a number since it was from a \n",
    "df.head(2)                                              # string"
   ]
  },
  {
   "cell_type": "code",
   "execution_count": null,
   "metadata": {},
   "outputs": [],
   "source": [
    "! head -n 2 235_intergenic.txt # sanity check that length is equal to len from file (looks ok)"
   ]
  },
  {
   "cell_type": "code",
   "execution_count": null,
   "metadata": {},
   "outputs": [],
   "source": [
    "# Parse the start location from the file \n",
    "\n",
    "start=[]\n",
    "for i in df.location:\n",
    "    i=i.split()[2]\n",
    "    i=i.split(\",\")[0]\n",
    "    start.append(i)\n",
    "    \n",
    "df['Start']=start\n",
    "\n",
    "df.Start = pd.to_numeric(df.Start, errors='coerce')\n",
    "df.head(2)"
   ]
  },
  {
   "cell_type": "code",
   "execution_count": null,
   "metadata": {},
   "outputs": [],
   "source": [
    "! head -n 2 235_intergenic.txt # looks the same as the file "
   ]
  },
  {
   "cell_type": "code",
   "execution_count": null,
   "metadata": {},
   "outputs": [],
   "source": [
    "# Calculate the End of the intergenic location; should simply be Start + Length \n",
    "\n",
    "df['End']=df['Start'] + df['length']"
   ]
  },
  {
   "cell_type": "code",
   "execution_count": null,
   "metadata": {},
   "outputs": [],
   "source": [
    "df.head(1)"
   ]
  },
  {
   "cell_type": "code",
   "execution_count": null,
   "metadata": {},
   "outputs": [],
   "source": [
    "(df['End']-df['Start'])[:5] # sanity check"
   ]
  },
  {
   "cell_type": "code",
   "execution_count": null,
   "metadata": {},
   "outputs": [],
   "source": [
    "df.head(2)"
   ]
  },
  {
   "cell_type": "code",
   "execution_count": null,
   "metadata": {},
   "outputs": [],
   "source": [
    "# Get the upstreamGene, aka the gene that is the first one \n",
    "up_stream_gene=[]\n",
    "for i in df['location']:\n",
    "    i=i.split(\"_\")[0]\n",
    "    i=i.split(\">\")[1]\n",
    "    up_stream_gene.append(i)\n",
    "df['Up_Stream_Gene']=up_stream_gene"
   ]
  },
  {
   "cell_type": "code",
   "execution_count": null,
   "metadata": {},
   "outputs": [],
   "source": [
    "# Get the upstreamGene, aka the gene that is the first one \n",
    "# same for downstream\n",
    "\n",
    "down_stream_gene=[]\n",
    "for i in df['location']:\n",
    "    i=i.split(\"_\")[1]\n",
    "    i=i.split()[0]\n",
    "    down_stream_gene.append(i)\n",
    "df['Down_Stream_Gene']=down_stream_gene"
   ]
  },
  {
   "cell_type": "code",
   "execution_count": null,
   "metadata": {},
   "outputs": [],
   "source": [
    "# Chromosome  \n",
    "Chrom=[]\n",
    "for i in df['location']:\n",
    "    if \"start\" in i:\n",
    "        Chrom.append(i)\n",
    "    elif \"end\" in i:\n",
    "        Chrom.append(i)\n",
    "    else:\n",
    "        i=i.split(\"_\")[1]\n",
    "        i=i.split()[1]\n",
    "        Chrom.append(i)\n",
    "df['Chr']=Chrom\n"
   ]
  },
  {
   "cell_type": "code",
   "execution_count": null,
   "metadata": {},
   "outputs": [],
   "source": [
    "df_gene1=pd.merge(df,gtf1,how='inner',on='Up_Stream_Gene')\n",
    "\n",
    "print(len(df_gene1))\n",
    "print(len(df))\n",
    "\n",
    "# what are the ones that are lost; maybe they are not real genes "
   ]
  },
  {
   "cell_type": "code",
   "execution_count": null,
   "metadata": {},
   "outputs": [],
   "source": [
    "df_gene1.head(1)"
   ]
  },
  {
   "cell_type": "code",
   "execution_count": null,
   "metadata": {},
   "outputs": [],
   "source": [
    "df_gene1=df_gene1[~df_gene1['location'].str.contains(\"end\")]"
   ]
  },
  {
   "cell_type": "code",
   "execution_count": null,
   "metadata": {},
   "outputs": [],
   "source": [
    "df_gene2=pd.merge(df,gtf2,how='inner',on='Down_Stream_Gene')"
   ]
  },
  {
   "cell_type": "markdown",
   "metadata": {},
   "source": [
    "# Making Upstream Gene SAF\n",
    "SAF file is a file format that featureCounts can use to count reads \n",
    "Only need GeneID Start End Chr Strand\n",
    "\n",
    "The goal is to get the 5' Junction for a Gene on the negative strand \n",
    "This gene will be the ustream gene since transcription will be going in the opposite direction \n",
    "\n",
    "\n",
    "GENE1_____________________GENE2\n",
    "           <---\n",
    "If gene 1 IS on the negative strand then the 5'junction will be the start location from the annotation file\n",
    "\n",
    "To get a 5' junction go 10 nts in from the start(start-10), to get the end (in the intergenic region) add 10 nts\n",
    "\n",
    "This will give a 21 nt region from which to get reads\n"
   ]
  },
  {
   "cell_type": "code",
   "execution_count": null,
   "metadata": {},
   "outputs": [],
   "source": [
    "# Make the up_stream_gene_SAF\n",
    "saf_up_stream_gene=df_gene1[['Up_Stream_Gene','Chr','Start','End','strand']]\n",
    "saf_up_stream_gene=saf_up_stream_gene[saf_up_stream_gene.strand=='-']\n",
    "saf_up_stream_gene.head(1)"
   ]
  },
  {
   "cell_type": "code",
   "execution_count": null,
   "metadata": {},
   "outputs": [],
   "source": [
    "saf_up_stream_gene=saf_up_stream_gene.rename(columns={'Up_Stream_Gene':'GeneID',\n",
    "                                                     'strand':'Strand'})\n",
    "\n"
   ]
  },
  {
   "cell_type": "code",
   "execution_count": null,
   "metadata": {},
   "outputs": [],
   "source": [
    "saf_up_stream_gene.drop('End',inplace=True,axis=1)"
   ]
  },
  {
   "cell_type": "code",
   "execution_count": null,
   "metadata": {},
   "outputs": [],
   "source": [
    "saf_up_stream_gene['End']=saf_up_stream_gene['Start'] + 10"
   ]
  },
  {
   "cell_type": "code",
   "execution_count": null,
   "metadata": {},
   "outputs": [],
   "source": [
    "saf_up_stream_gene['New_Start']=saf_up_stream_gene['Start'] - 10"
   ]
  },
  {
   "cell_type": "code",
   "execution_count": null,
   "metadata": {},
   "outputs": [],
   "source": [
    "saf_up_stream_gene.drop('Start',inplace=True,axis=1)"
   ]
  },
  {
   "cell_type": "code",
   "execution_count": null,
   "metadata": {},
   "outputs": [],
   "source": [
    "saf_up_stream_gene=saf_up_stream_gene.rename(columns={'New_Start':'Start'})\n",
    "saf_up_stream_gene=saf_up_stream_gene[['GeneID','Chr','Start','End','Strand']]"
   ]
  },
  {
   "cell_type": "code",
   "execution_count": null,
   "metadata": {},
   "outputs": [],
   "source": []
  },
  {
   "cell_type": "code",
   "execution_count": null,
   "metadata": {},
   "outputs": [],
   "source": [
    "saf_up_stream_gene.to_csv('saf_up_stream_Gene.saf',sep='\\t',index=False)"
   ]
  },
  {
   "cell_type": "code",
   "execution_count": null,
   "metadata": {},
   "outputs": [],
   "source": [
    "saf_up_stream_gene.tail(1) # make sure that it looks ok\n",
    "                           # Randomly access rows and then go to the Genome Browser to verify that it worked "
   ]
  },
  {
   "cell_type": "markdown",
   "metadata": {},
   "source": [
    "# Make SAF for Down Stream Gene\n",
    "\n",
    "Similar logic to above \n",
    "\n",
    "If we want to get the 5 prime junction for a gene on the plus strand we want to look at the downstream Gene \n",
    "\n",
    "GENE1___________________GENE2 \n",
    "                     ----->  "
   ]
  },
  {
   "cell_type": "code",
   "execution_count": null,
   "metadata": {},
   "outputs": [],
   "source": [
    "saf_down_stream_gene=df_gene2[['Down_Stream_Gene','Chr','Start','End','strand']]\n"
   ]
  },
  {
   "cell_type": "code",
   "execution_count": null,
   "metadata": {},
   "outputs": [],
   "source": [
    "saf_down_stream_gene=saf_down_stream_gene[saf_down_stream_gene.strand=='+']"
   ]
  },
  {
   "cell_type": "code",
   "execution_count": null,
   "metadata": {},
   "outputs": [],
   "source": [
    "saf_down_stream_gene=saf_down_stream_gene.rename(columns={'strand':'Strand',\n",
    "                                  'Up_Stream_Gene':'GeneID'})\n",
    "\n"
   ]
  },
  {
   "cell_type": "code",
   "execution_count": null,
   "metadata": {},
   "outputs": [],
   "source": [
    "saf_down_stream_gene.drop('Start',inplace=True,axis=1)"
   ]
  },
  {
   "cell_type": "code",
   "execution_count": null,
   "metadata": {},
   "outputs": [],
   "source": [
    "saf_down_stream_gene['Start']=saf_down_stream_gene['End']-10"
   ]
  },
  {
   "cell_type": "code",
   "execution_count": null,
   "metadata": {},
   "outputs": [],
   "source": [
    "saf_down_stream_gene['new_End']=saf_down_stream_gene['End']+10"
   ]
  },
  {
   "cell_type": "code",
   "execution_count": null,
   "metadata": {},
   "outputs": [],
   "source": [
    "saf_down_stream_gene.drop('End',inplace=True,axis=1)"
   ]
  },
  {
   "cell_type": "code",
   "execution_count": null,
   "metadata": {},
   "outputs": [],
   "source": [
    "saf_down_stream_gene=saf_down_stream_gene.rename(columns={'new_End':'End',\n",
    "                                                         'Down_Stream_Gene':'GeneID'})\n"
   ]
  },
  {
   "cell_type": "code",
   "execution_count": null,
   "metadata": {},
   "outputs": [],
   "source": [
    "saf_down_stream_gene=saf_down_stream_gene[['GeneID','Chr','Start','End','Strand']]"
   ]
  },
  {
   "cell_type": "code",
   "execution_count": null,
   "metadata": {},
   "outputs": [],
   "source": [
    "saf_down_stream_gene.to_csv('saf_down_stream_Gene.saf',sep='\\t',index=False)"
   ]
  },
  {
   "cell_type": "code",
   "execution_count": null,
   "metadata": {},
   "outputs": [],
   "source": [
    "saf_down_stream_gene.head()"
   ]
  },
  {
   "cell_type": "code",
   "execution_count": null,
   "metadata": {},
   "outputs": [],
   "source": []
  },
  {
   "cell_type": "code",
   "execution_count": null,
   "metadata": {},
   "outputs": [],
   "source": []
  },
  {
   "cell_type": "code",
   "execution_count": null,
   "metadata": {},
   "outputs": [],
   "source": []
  },
  {
   "cell_type": "code",
   "execution_count": null,
   "metadata": {},
   "outputs": [],
   "source": []
  },
  {
   "cell_type": "code",
   "execution_count": null,
   "metadata": {},
   "outputs": [],
   "source": []
  }
 ],
 "metadata": {
  "kernelspec": {
   "display_name": "Python 2",
   "language": "python",
   "name": "python2"
  },
  "language_info": {
   "codemirror_mode": {
    "name": "ipython",
    "version": 2
   },
   "file_extension": ".py",
   "mimetype": "text/x-python",
   "name": "python",
   "nbconvert_exporter": "python",
   "pygments_lexer": "ipython2",
   "version": "2.7.15"
  }
 },
 "nbformat": 4,
 "nbformat_minor": 2
}
